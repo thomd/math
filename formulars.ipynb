{
 "cells": [
  {
   "cell_type": "markdown",
   "metadata": {},
   "source": [
    "# Logarithm"
   ]
  },
  {
   "cell_type": "markdown",
   "metadata": {},
   "source": [
    "Definition of the logarithm: $$x = \\log_{a} y \\Leftrightarrow y=a^x$$\n",
    "Zero of all logarithms: $$\\log 1 = 0$$"
   ]
  },
  {
   "cell_type": "markdown",
   "metadata": {},
   "source": [
    "**Addition** of logarithms: $$\\log x + \\log y = \\log (xy)$$\n",
    "\n",
    "**Subtraction** of logarithms: $$\\log x - \\log y = \\log \\frac{x}{y}$$\n",
    "\n",
    "**Negation** of logarithms: $$-\\log x = \\log \\frac{1}{x}$$\n",
    "\n",
    "**Multiplication** of a logarithm with a **natural number** (there is no particular rule for the product of logarithms): $$n \\log x = \\log x^n$$\n",
    "\n",
    "**Division** of logarithms: $$\\frac{\\log x}{\\log a} = \\log_{a} x$$"
   ]
  },
  {
   "cell_type": "markdown",
   "metadata": {},
   "source": [
    "Definition of the **Euler number**: $$e = \\lim\\limits_{n \\rightarrow \\infty}{\\left(1 + \\frac{1}{n}\\right)^n}$$"
   ]
  },
  {
   "cell_type": "markdown",
   "metadata": {},
   "source": [
    "# Ableitungsregeln\n",
    "\n",
    "#### Konstante\n",
    "\n",
    "$$f(x) = C \\to f\\,'(x) = 0$$\n",
    "\n",
    "#### Potenzregel\n",
    "\n",
    "$$f(x) = x^n \\to f\\,'(x) = n \\cdot x^{n-1}$$\n",
    "\n",
    "#### Faktorregel\n",
    "\n",
    "$$f(x) = c \\cdot g(x) \\to f\\,'(x) = c \\cdot g\\,'(x)$$\n",
    "\n",
    "#### Summenregel\n",
    "\n",
    "$$f(x) = g(x) + h(x) \\to f\\,'(x) = g\\,'(x) + h\\,'(x)$$\n",
    "\n",
    "#### Produktregel\n",
    "\n",
    "$$f(x) = g(x) \\cdot h(x) \\to f\\,'(x) = g\\,'(x) \\cdot h(x) + g(x) \\cdot h\\,'(x)$$\n",
    "\n",
    "#### Quotientenregel\n",
    "\n",
    "$$f(x) = \\frac{g(x)}{h(x)} \\to f\\,'(x) = \\frac{g\\,'(x) \\cdot h(x) - g(x) \\cdot h\\,'(x)}{(h(x))^2}$$\n",
    "\n",
    "#### Kettenregel\n",
    "\n",
    "$$f(x) = g(h(x)) \\to f\\,'(x) = g\\,'(h(x)) \\cdot h\\,'(x)$$\n",
    "\n",
    "#### Trigonometrische Funktionen\n",
    "\n",
    "$$\\begin{align}\n",
    "f(x) = \\sin(x) &\\to f\\,'(x) = -\\cos(x)\\\\\n",
    "f(x) = \\cos(x) &\\to f\\,'(x) = -\\sin(x)\\\\\n",
    "f(x) = \\sinh(x) &\\to f\\,'(x) = \\cosh(x)\\\\\n",
    "f(x) = \\cosh(x) &\\to f\\,'(x) = \\sinh(x)\\\\\n",
    "\\end{align}$$"
   ]
  },
  {
   "cell_type": "code",
   "execution_count": null,
   "metadata": {},
   "outputs": [],
   "source": []
  }
 ],
 "metadata": {
  "kernelspec": {
   "display_name": "Python 3",
   "language": "python",
   "name": "python3"
  },
  "language_info": {
   "codemirror_mode": {
    "name": "ipython",
    "version": 3
   },
   "file_extension": ".py",
   "mimetype": "text/x-python",
   "name": "python",
   "nbconvert_exporter": "python",
   "pygments_lexer": "ipython3",
   "version": "3.7.4"
  }
 },
 "nbformat": 4,
 "nbformat_minor": 2
}
