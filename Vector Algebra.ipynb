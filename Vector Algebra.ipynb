{
 "cells": [
  {
   "cell_type": "markdown",
   "metadata": {},
   "source": [
    "# Vectorgeometry"
   ]
  },
  {
   "cell_type": "markdown",
   "metadata": {},
   "source": [
    "A **plain surface** can be described in a **parameter form**. Given I have three points $A$, $B$ and $C$ and their corresponding vectors $\\vec{a}$, $\\vec{b}$ and $\\vec{c}$ in a euclidian space, then \n",
    "$$E: \\vec{x} = \\vec{a} + \\mu\\;\\overrightarrow{AB} + \\lambda\\;\\overrightarrow{AC}$$\n",
    "or\n",
    "\n",
    "$$E: \\vec{x} = \\vec{a} + \\mu\\;(\\vec{b} - \\vec{a}\\,) + \\lambda\\;(\\vec{c} - \\vec{a}\\,)$$"
   ]
  },
  {
   "cell_type": "code",
   "execution_count": null,
   "metadata": {},
   "outputs": [],
   "source": []
  }
 ],
 "metadata": {
  "kernelspec": {
   "display_name": "Python 3",
   "language": "python",
   "name": "python3"
  },
  "language_info": {
   "codemirror_mode": {
    "name": "ipython",
    "version": 3
   },
   "file_extension": ".py",
   "mimetype": "text/x-python",
   "name": "python",
   "nbconvert_exporter": "python",
   "pygments_lexer": "ipython3",
   "version": "3.7.4"
  }
 },
 "nbformat": 4,
 "nbformat_minor": 2
}
