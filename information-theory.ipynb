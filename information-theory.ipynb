{
 "cells": [
  {
   "cell_type": "markdown",
   "id": "bb42c4b2-c9f7-413a-958e-f3e27f059d32",
   "metadata": {},
   "source": [
    "# Information Theory\n",
    "\n",
    "References:\n",
    "\n",
    "* [Coursera Course on Information Theory](https://www.coursera.org/learn/information-theory)\n",
    "* [ETH Zürich - Information Theory Lecture Notes](https://moser-isi.ethz.ch/docs/it_script_v610.pdf)\n",
    "* [A Mathematical Theory of Communication](https://people.math.harvard.edu/~ctm/home/text/others/shannon/entropy/entropy.pdf) by C. E. Shannon\n",
    "* [Claude Shannon and “A Mathematical Theory of Communication”](https://www.academia.edu/2845816/Claude_Shannon_and_A_Mathematical_Theory_of_Communication_)"
   ]
  },
  {
   "cell_type": "markdown",
   "id": "0407a394-683f-4729-a5fa-0eca69feffc7",
   "metadata": {},
   "source": [
    "## Motivation\n",
    "\n",
    "You throw a fair coin. There are **2** possible outcomes $\\{H, T\\}$. Then you tell the outcome it to someone, the number of possible answers is $r = 2$. By doing so you tell a certain **amount of information**.\n",
    "\n",
    "Then you throw a fair dice. There are **6** possible outcomes $\\{1, 2, 3, 4, 5, 6\\}$. Again you tell the outcome to someone, now the number of possible answers is $r = 6$. By doing so you tell another amount of information.\n",
    "\n",
    "We realize the following:\n",
    "\n",
    "&rarr; The number of possible answers $r$ should be linked to the term \"**information**\".\n",
    "\n",
    "<br>\n",
    "\n",
    "Then you throw a fair dice **three times**. Again you tell the outcomes to someone. Obviously, the amount of information that you tell is three times as much as the first time. But the number of possible answers is $r = 6^3 = 216$ and we would like to have only a **3 times** larger amount of information. How\n",
    "do we resolve this?:\n",
    "\n",
    "We define a **measure of information** of $I = \\log r$. Doing this we now have a 3 times larger amount of information as $I = \\log r^3 = 3 \\cdot \\log r$ (albeit this definition has a fundamental flaw: the smallest nonzero amount of information is $\\log 2 = 1$, but actually **1 bit** can be a lot of information).\n",
    "\n",
    "We realize the following:\n",
    "\n",
    "&rarr; Information should be **additive** in some sense.\n",
    "\n",
    "<br>\n",
    "\n",
    "Now consider two hats $A$ and $B$, each containing 4 balls being either black or white, i.e. the number of possible answers is $r = 2$. In hat $A$ are 2 black and 2 white balls, in hat $B$ are 3 black balls and 1 white ball.\n",
    "\n",
    "If we now draw one ball from $A$, then the amount of information is $I(A) = \\log 2$, if we draw one ball from $B$, then the amount of information is again $I(B) = \\log 2$. But obviously, we get less information if in hat $B$ black shows up, since we expect black to show up in the first place. Black is much more **likely**!\n",
    "\n",
    "We realize the following:\n",
    "\n",
    "&rarr; A proper measure of information needs to take into account the **probabilities** of the various possible events.\n"
   ]
  },
  {
   "cell_type": "markdown",
   "id": "707acaa6-d974-4427-a261-a8bfe6e29d24",
   "metadata": {},
   "source": [
    "## Key Concepts\n",
    "\n",
    "1. Information is **uncertainty**: an information source is modeled as a **random variable**. Gaining information is equivalent to reducing uncertaint.\n",
    "\n",
    "2. Information is **digital**, i.e., information transmission is equivalent to transmitting `0`’s and `1`’s, without making reference to what these bits represent. Transmitting information in digital form is optimal, i.e., there is no other way that you can do better than transmitting `0`'s and `1`'s."
   ]
  },
  {
   "cell_type": "markdown",
   "id": "fae07bde-c53f-4876-8694-3e4529b57054",
   "metadata": {},
   "source": [
    "There is a **difference** between **uncertainty** and **variability**: Variability refers to natural variation in some quantity whereas uncertainty refers to the degree of precision with which a quantity is measured. **Example**: The amount of a certain pollutant in the air is variable, it varies from place to place and from time to time. However, the uncertainty in the amount of that pollutant present in a particular place at a particular time depends on the quality (and presence or absence) of the instruments used to measure it.\n"
   ]
  },
  {
   "cell_type": "markdown",
   "id": "20dd1b85-e815-4261-89cc-a2b57cff03c1",
   "metadata": {},
   "source": [
    "## Fundamental Theorems\n",
    "\n",
    "1. The **source coding theorem** that establishes the fundamental **limit** in data **compression**. The idea of the source coding theorem is that no matter how smart the data compression algorithm is designed, there is always a **minimum size** that the file can be **compressed**, and this is what it means by a fundamental limit.\n",
    "\n",
    "2. The **channel coding theorem**. This theorem establishes the fundamental **limit** for **reliable communication** through a **noisy channel**. The idea is that no matter how smart the communication (system) is designed, for reliable communication, there exists a maximum rate that information can be transmitted through the channel. This quantity is called the **channel capacity**. "
   ]
  },
  {
   "cell_type": "markdown",
   "id": "21a8f131-46cf-4686-b5c2-de7e0beb5c31",
   "metadata": {},
   "source": [
    "![](images/shannon-communication_v1.jpg)\n",
    "\n",
    "Image source: [The Bell System Technical Journal](https://archive.org/details/bellsystemtechni27amerrich/page/380/mode/2up)\n",
    "\n",
    "This figure, taken from Shannon’s 1948 paper, shows a basic communication system. On the left is an information source that generates a message to be transmitted. The **transmitter** processes the message into a signal and transmits it through a channel. The received signal may not be exactly the same as the transmitted signal, because it may be contaminated by a **noise** source. The **receiver**, based on the received signal, decodes the message and delivers it to the destination.\n",
    "\n",
    "Scenarios of communicating through a noisy channel includes using voice, data and video communication, using the modem for computer communication, and using a memory device for data storage. \n",
    "\n",
    "At first sight, data storage does not appear to be a form of communication, but in fact, when we store information on a hard disk and retrieve the information some time later, we are using the hard disk to **communicate** the information from the **presence** to the **future**."
   ]
  },
  {
   "cell_type": "markdown",
   "id": "0a31f89a-beb1-440f-962f-223e3efdab13",
   "metadata": {},
   "source": [
    "## Information Measures\n",
    "\n",
    "### Notations\n",
    "\n",
    "* $X$ denotes a **discrete random variable** taking values in a set $\\mathcal{X}$ (called the **alphabet** of the random variable $X$)\n",
    "\n",
    "* $\\{p_X(x)\\}$ is the **probability distribution** for discrete random variable $X$\n",
    "\n",
    "* $\\mathcal{S}_X$ is the **support** of $X$, that is $\\{x \\in \\mathcal{X} \\mid p_X(x) > 0\\}$.\n",
    "\n",
    "If $\\mathcal{S}_X = \\mathcal{X}$ then we say that $p$ is **strictly positive**. Non-strictly positive distributions are **dangerous**, in the sense that we need to handle them with great care."
   ]
  },
  {
   "cell_type": "markdown",
   "id": "3aa70dd8-10e8-4caf-a5c8-de0928723c98",
   "metadata": {},
   "source": [
    "### Independent Random Variables\n",
    "\n",
    "**Definition 1.1** Two random variables $X$ and $Y$ are **independent**, denoted by $X \\perp Y$, if\n",
    "\n",
    "$$p\\,(x, y) = p\\,(x)\\cdot p\\,(y\\,)$$\n",
    "\n",
    "for all $(x, y) \\in \\mathcal{X} \\times \\mathcal{Y}$\n",
    "\n",
    "<br>\n",
    "\n",
    "**Definition 1.2 (Mutual Independence)** For $n \\geq 3$, random variables $X_1, X_2, \\ldots, X_n$ are **mutual independent** if\n",
    "\n",
    "$$p\\,(x_1, x_2, \\ldots, x_n) = p\\,(x_1) \\cdot p\\,(x_2) \\cdots p\\,(x_n)$$\n",
    "\n",
    "for all $x_1, x_2, \\ldots, x_n$\n",
    "\n",
    "<br>\n",
    "\n",
    "**Definition 1.3 (Pairwise Independence)** For $n \\geq 3$, random variables $X_1, X_2, \\ldots, X_n$ and $Y$ are **pairwise independent** if $X_i$ and $X_j$ are independend for all $1 \\leq i < j \\leq n$\n",
    "\n",
    "It can be shown that **pairwise independence is implied by mutual independence** but not vice versa.\n",
    "\n",
    "<br>\n",
    "\n",
    "**Definition 1.4 (Conditional Independence)** For random variables $X$, $Y$ and $Z$, $X$ is independent on $Z$ conditioning on $Y$, denoted by $X \\perp Z \\mid Y$, if\n",
    "\n",
    "$$\n",
    "p\\,(x,y,z) = \n",
    "  \\begin{cases}\n",
    "    \\displaystyle \\frac{p\\,(x,y)\\cdot p\\,(y,z)}{p\\,(y)} = p\\,(x,y)\\cdot p\\,(y \\mid z) & \\quad \\text{if } p\\,(y) > 0\\\\\n",
    "    0 & \\quad \\text{otherwise}\n",
    "  \\end{cases}\n",
    "$$\n",
    "\n",
    "<br>\n",
    "\n",
    "Conceptually, when $X \\perp Z \\mid Y$, then\n",
    "\n",
    "![conditional independence](images/conditional-independence.png)\n",
    "\n",
    "We start with a random variable $X$ and then we pass it through a channel $p(y|x)$ to obtain the random variable $Y$. And then we pass $Y$ through another channel $p(z|y)$ to obtain random variable $Z$:\n",
    "\n",
    "$$\n",
    "p(x,y,z) = p(x) \\cdot p(y|x) \\cdot p(z|y) = p(x,y) \\cdot p(z|y)\n",
    "$$\n",
    "\n",
    "<br>\n",
    "\n",
    "**Proposition 1.5** Given random variables $X$, $Y$ and $Z$, then $X \\perp Z \\mid Y$ **if and only if**\n",
    "\n",
    "$$\n",
    "p(x,y,z) = a(x,y) \\cdot b(y,z)\n",
    "$$\n",
    "\n",
    "for all $x$, $y$ and $z$ such that $p(y) > 0$. Here $a$ and $b$ are not necessarily probability distributions: $a$ is a function that depends only on $x$ and $y$, and $b$ is a function that depends only on $y$ and $z$."
   ]
  },
  {
   "cell_type": "markdown",
   "id": "ed7f2731-b4b3-4f2e-a681-a5ffa15a101d",
   "metadata": {},
   "source": [
    "### Markov Chain\n",
    "\n",
    "**Definition 1.6 (Markov Chain)** Given random variables $X_1, X_2, \\ldots, X_n$ and $n \\geq 3$, then these variables form a Markov chain $X_1 \\to X_2 \\to \\ldots \\to X_n$ if\n",
    "\n",
    "$$\n",
    "p\\,(x_1,x_2,\\ldots,x_n) = \n",
    "  \\begin{cases}\n",
    "    \\displaystyle p\\,(x_1,x_2) \\cdot p\\,(x_3 \\mid x_2) \\cdots p\\,(x_{n} \\mid x_{n-1}) & \\quad \\text{if } p\\,(x_1), p\\,(x_2), \\ldots, p\\,(x_{n-1}) > 0\\\\\n",
    "    0 & \\quad \\text{otherwise}\n",
    "  \\end{cases}\n",
    "$$\n",
    "\n",
    "**Remark**: $X_1 \\to X_2 \\to X_3$ is equivalent to $X_1 \\perp X_3 \\mid X_2$.\n",
    "\n",
    "<br>\n",
    "\n",
    "**Proposition 1.7** $X_1 \\to X_2 \\to \\ldots \\to X_n$ forms a Markov Chain **if and only if** $X_n \\to X_{n-1} \\to \\ldots \\to X_1$ forms a Markov Chain.\n",
    "\n",
    "<br>\n",
    "\n",
    "**Proposition 1.8** $X_1 \\to X_2 \\to \\ldots \\to X_n$ forms a Markov Chain **if and only if** \n",
    "\n",
    "$$\n",
    "\\begin{align}\n",
    "X_1 \\to X_2 &\\to X_3 \\\\\n",
    "(X_1, X_2) \\to X_3 &\\to X_4 \\\\\n",
    "&\\vdots \\\\\n",
    "(X_1, X_2, \\ldots, X_{n-2}) \\to X_{n-1} &\\to X_n\n",
    "\\end{align}\n",
    "$$\n",
    "\n",
    "form Markov chains.\n",
    "\n",
    "**Proposition 1.9** $X_1 \\to X_2 \\to \\ldots \\to X_n$ forms a Markov Chain **if and only if** \n",
    "\n",
    "$$\n",
    "p(x_1, x_2, \\ldots, x_n) = f_1(x_1, x_2) \\cdot f_2(x_2, x_3) \\cdots f_n(x_{n-1}, x_n)\n",
    "$$\n",
    "\n",
    "for all $x_1, x_2, \\ldots, x_n$ such that $p(x_2), p(x_3), \\ldots, p(x_{n-1}) > 0$. "
   ]
  },
  {
   "cell_type": "markdown",
   "id": "4dcaa527-92b2-4b6b-a610-939af2c8310d",
   "metadata": {},
   "source": [
    "### Examples\n",
    "\n",
    "Consider tossing a fair coin twice. Define $X_1 = 1$ when the **first** toss is a HEAD and $X_1 = 0$ otherwise; $X_2 = 1$ when the **second** toss is a HEAD and $X_2 = 0$ otherwise; $X_3 = 1$ when **both** tosses are a HEAD and $X_3 = 0$ otherwise.\n",
    "\n",
    "Then the random variables $X_1, X_2, X_3$ are **not mutual independent** (and hence **not pairwise independent**), as \n",
    "\n",
    "$$p(X_1=1, X_2=1, X_3=1) = 0.25$$\n",
    "\n",
    "but $$\n",
    "\\begin{align}\n",
    "p(X_1=1) &= 0.5 \\\\\n",
    "p(X_2=1) &= 0.5 \\\\\n",
    "p(X_3=1) &= 0.25\n",
    "\\end{align}\n",
    "$$\n",
    "\n",
    "Also $X_1 \\perp X_3 | X_2$ is **not true**."
   ]
  },
  {
   "cell_type": "markdown",
   "id": "83b8e2c5-3298-4a58-b2f3-81a845fda85f",
   "metadata": {},
   "source": [
    "## Shannon's Information Measures\n",
    "\n",
    "We now formally define the Shannon measure of \"**self-information of a source**\"."
   ]
  },
  {
   "cell_type": "markdown",
   "id": "6dd6e0c0-7bf2-4ac0-b74b-e4b6e7f7789a",
   "metadata": {},
   "source": [
    "### Entropy\n",
    "\n",
    "Due to its relationship with a corresponding concept in different areas of physics, Shannon called his measure entropy. We will stick to this name as it is standard in the whole literature. However note that uncertainty would be a far more precise description.\n",
    "\n",
    "Entropy measures the **uncertainty** of a discrete random variable.\n",
    "\n",
    "<br>\n",
    "\n",
    "**Definition 1.10** The entropy $H(X)$ of a random variable $X$ is defined as\n",
    "\n",
    "$$\n",
    "H(X) = \\sum_x p\\,(x) \\cdot \\log \\frac{1}{p\\,(x)} = - \\sum_x p\\,(x) \\cdot \\log p\\,(x)\n",
    "$$\n",
    "\n",
    "* Convention: Summation is taken over the support $\\mathcal{S}_X$\n",
    "\n",
    "* When the base of a logarithm is $\\alpha$, then write $H_{\\alpha}(X)$\n",
    "\n",
    "* The **unit** for entropy is\n",
    "$$\n",
    "\\begin{align}\n",
    "\\text{bit} \\quad &\\text{if} \\; \\alpha = 2 \\\\\n",
    "\\text{nat} \\quad &\\text{if} \\; \\alpha = e \\\\\n",
    "\\text{D-it} \\quad &\\text{if} \\; \\alpha = D \\\\\n",
    "\\end{align}\n",
    "$$\n",
    "\n",
    "* Using different $\\alpha$ only causes a change of units without actually changing the amount of information described (similarly to the fact that *1 km* is the same distance as *1000 m*)\n",
    "\n",
    "* A **bit** in information theory is **different** from a  bit in computer science\n",
    "\n",
    "* The entropy of $X$ depends only on the **probabilities** of the random variable $X$, but not on the actual values taken by $X$, hence we also write $H(p_x)$\n",
    "\n",
    "* Intuitively, it measures **amount of information (or uncertainty)** in a random variable\n",
    "\n",
    "* It can also be interpreted as the **length of message** to transmit an outcome of the random variable\n",
    "\n",
    "* $H(X) \\geq 0$ by definition"
   ]
  },
  {
   "cell_type": "code",
   "execution_count": 6,
   "id": "96d5536b-8f30-40c5-9c08-4672c6afd85d",
   "metadata": {},
   "outputs": [
    {
     "data": {
      "text/plain": [
       "tensor(1.6855)"
      ]
     },
     "execution_count": 6,
     "metadata": {},
     "output_type": "execute_result"
    }
   ],
   "source": [
    "import torch\n",
    "\n",
    "def nansum(x):\n",
    "    return x[~torch.isnan(x)].sum()\n",
    "\n",
    "def entropy(p):\n",
    "    entropy = - p * torch.log2(p)\n",
    "    return nansum(entropy)\n",
    "\n",
    "entropy(torch.tensor([0.1, 0.5, 0.1, 0.3]))"
   ]
  },
  {
   "cell_type": "code",
   "execution_count": 10,
   "id": "4d346b7f-4092-4248-87b8-0d899d2e764b",
   "metadata": {},
   "outputs": [
    {
     "data": {
      "text/plain": [
       "1.6854752972273346"
      ]
     },
     "execution_count": 10,
     "metadata": {},
     "output_type": "execute_result"
    }
   ],
   "source": [
    "import numpy as np\n",
    "\n",
    "def entropy(p):\n",
    "    return sum(-p * np.log2(p))\n",
    "\n",
    "entropy(np.array([0.1, 0.5, 0.1, 0.3]))"
   ]
  },
  {
   "cell_type": "code",
   "execution_count": 13,
   "id": "f805b481-5203-47db-baa5-6a65d41a2fd0",
   "metadata": {},
   "outputs": [
    {
     "name": "stdout",
     "output_type": "stream",
     "text": [
      "[ 1.66612801  0.41070047  0.31866876 -1.24662684  0.38649026 -2.58980726\n",
      "  0.82978959  0.9645466   1.10429805 -1.41843713]\n",
      "[0.09956647 0.36667625 0.37919169 0.1834198  0.37023183 0.01394702\n",
      " 0.28274385 0.25054578 0.21682263 0.14588736]\n",
      "nan\n"
     ]
    },
    {
     "name": "stderr",
     "output_type": "stream",
     "text": [
      "/var/folders/vk/g8t35f_j5lg3ykxlmkbtq6nm0000gp/T/ipykernel_28167/13505427.py:4: RuntimeWarning: invalid value encountered in log2\n",
      "  return sum(-p * np.log2(p))\n"
     ]
    }
   ],
   "source": [
    "import scipy.stats as stats\n",
    "\n",
    "data = stats.norm.rvs(size=10)\n",
    "print(data)\n",
    "print(stats.norm.pdf(data))\n",
    "print(entropy(data))"
   ]
  },
  {
   "cell_type": "code",
   "execution_count": 31,
   "id": "1ee15092-a146-4991-89d6-f3c1296803f6",
   "metadata": {},
   "outputs": [
    {
     "data": {
      "image/png": "[encoded data removed]",
      "text/plain": [
       "<Figure size 432x288 with 1 Axes>"
      ]
     },
     "metadata": {
      "needs_background": "light"
     },
     "output_type": "display_data"
    }
   ],
   "source": [
    "import matplotlib.pyplot as plt\n",
    "d = stats.norm.rvs(size=100)\n",
    "plt.scatter(d, stats.norm.pdf(d));"
   ]
  },
  {
   "cell_type": "code",
   "execution_count": 49,
   "id": "4537652a-84c6-4e92-b310-4d023ec7e409",
   "metadata": {},
   "outputs": [
    {
     "data": {
      "text/plain": [
       "5.03285190713389"
      ]
     },
     "execution_count": 49,
     "metadata": {},
     "output_type": "execute_result"
    }
   ],
   "source": [
    "entropy(stats.norm.pdf(stats.norm.rvs(size=10)))"
   ]
  },
  {
   "cell_type": "markdown",
   "id": "31bfcaf6-4e17-4219-b0f4-a7b90277fc31",
   "metadata": {},
   "source": [
    "### Joined Entropy\n",
    "\n",
    "**Definition 1.11** The joined entropy $H(X, Y)$ of a pair of random variables $X$ and $Y$ is defined as\n",
    "\n",
    "$$\n",
    "H(X, Y) = - \\sum_{x, y} p\\,(x, y) \\cdot \\log p\\,(x, y)\n",
    "$$"
   ]
  },
  {
   "cell_type": "markdown",
   "id": "7f4d0178-0705-41f7-a4c2-c128660c9183",
   "metadata": {},
   "source": [
    "### Conditional Entropy\n",
    "\n",
    "**Definition 1.12** The conditional entropy $H(Y \\mid X)$ is defined as\n",
    "\n",
    "$$\n",
    "\\begin{align}\n",
    "H(Y \\mid X) &= - \\sum_{x, y} p\\,(x, y) \\cdot \\log p\\,(y \\mid x) \\\\\n",
    "H(Y \\mid X) &= - \\sum_{x} p\\,(x) \\cdot H(Y \\mid X = x)\n",
    "\\end{align}\n",
    "$$\n",
    "\n",
    "**Preposition 1.13**\n",
    "\n",
    "$$\n",
    "\\begin{align}\n",
    "H(X, Y) &= H(X) + H(Y \\mid X) \\\\\n",
    "H(X, Y) &= H(Y) + H(X \\mid Y)\n",
    "\\end{align}\n",
    "$$"
   ]
  },
  {
   "cell_type": "code",
   "execution_count": 2,
   "id": "1f3c097c-0a1c-40a1-88bf-a34ac0590f35",
   "metadata": {},
   "outputs": [],
   "source": [
    "import numpy as np\n",
    "\n",
    "def entropy(X):\n",
    "    _, counts = np.unique(X, return_counts=True, axis=0)\n",
    "    p = counts / len(X)\n",
    "    return -1 * np.sum(p * np.log2(p))\n",
    "\n",
    "def jointEntropy(X, Y):\n",
    "    return entropy(np.c_[X, Y])\n",
    "\n",
    "def conditionalEntropy(X, Y):\n",
    "    return jointEntropy(X, Y) - entropy(Y)\n",
    "\n",
    "def informationGain(X, Y):\n",
    "    return entropy(X) - conditionalEntropy(X, Y)"
   ]
  },
  {
   "cell_type": "code",
   "execution_count": null,
   "id": "3b571856-170c-49d8-8c05-56f4df3b675a",
   "metadata": {},
   "outputs": [],
   "source": []
  },
  {
   "cell_type": "markdown",
   "id": "2037c4bb-9de7-4efe-8f1a-6516a633e565",
   "metadata": {},
   "source": [
    "### Entropy using Expectation\n",
    "\n",
    "We can also write entropy using the **expetation**\n",
    "\n",
    "$$\n",
    "E\\, \\lbrack X \\rbrack = \\sum_x p\\,(x) \\cdot x\n",
    "$$\n",
    "\n",
    "hence we can write the entropy as\n",
    "\n",
    "$$\n",
    "\\begin{align}\n",
    "H(X) &= - \\sum_x p\\,(x) \\cdot \\log p\\,(x) = - E \\, \\lbrack \\log p\\,(X) \\rbrack \\\\[0.3em]\n",
    "H(X, Y) &= - E  \\, \\lbrack \\log p\\,(X, Y) \\rbrack \\\\[1em]\n",
    "H(Y \\mid X) &= - E  \\, \\lbrack \\log p\\,(Y \\mid X) \\rbrack\n",
    "\\end{align}\n",
    "$$"
   ]
  },
  {
   "cell_type": "markdown",
   "id": "c67730fa-5cce-4608-b0f5-da9cd92d7659",
   "metadata": {},
   "source": [
    "### Binary Entropy Function\n",
    "\n",
    "For $0 \\leq \\gamma \\leq 1$ we define the binary entropy function\n",
    "\n",
    "$$\n",
    "h\\,(\\gamma) = - \\gamma \\log \\gamma - (1 - \\gamma) \\log (1 - \\gamma)\n",
    "$$\n",
    "\n",
    "with a **maximum** value of $1$ for $\\gamma = 0.5$\n",
    "\n",
    "For $X \\sim \\{\\gamma, 1 - \\gamma\\}$, the entropy is\n",
    "\n",
    "$$\n",
    "H(X) = h\\,(\\gamma)\n",
    "$$"
   ]
  },
  {
   "cell_type": "code",
   "execution_count": 18,
   "id": "7cd39107-9bd1-41ea-a78a-2c7514e69470",
   "metadata": {},
   "outputs": [
    {
     "data": {
      "image/png": "[encoded data removed]",
      "text/plain": [
       "<Figure size 432x288 with 1 Axes>"
      ]
     },
     "metadata": {
      "needs_background": "light"
     },
     "output_type": "display_data"
    }
   ],
   "source": [
    "import matplotlib.pyplot as plt\n",
    "import numpy as np\n",
    "\n",
    "x = np.linspace(0, 1, 1000)[1:-1]\n",
    "h = lambda x: - x * np.log2(x) - (1 - x) * np.log2((1 - x))  # Binary Entropy Function\n",
    "plt.plot(x, h(x))\n",
    "plt.xlabel(r'$\\gamma$')\n",
    "plt.ylabel('Entropy');"
   ]
  },
  {
   "cell_type": "markdown",
   "id": "884e2f65-9a6c-42f7-af22-ae07ec6c5918",
   "metadata": {},
   "source": [
    "#### Example\n",
    "\n",
    "Consider tossing a coin with $p\\,(H) = \\gamma$ and $p\\,(T) = 1 - \\gamma$.\n",
    "\n",
    "The binary entropy function $h(\\gamma)$ measures the **amount of uncertainty** in outcome of the toss.\n",
    "\n",
    "* When $\\gamma = 0$ or $\\gamma = 1$, the coin is **deterministic** and $h(\\gamma) = 0$. This is consistent with our intuition, because for such cases, we need **0 bits** to convey the outcome. The outcome contains **no information** (or uncertainty).\n",
    "\n",
    "* When $\\gamma = 0.5$, the coin is **fair** and $h(\\gamma) = 1$. This is consistent with our intuition, because we need **1 bit** to convey the outcome, we have **maximal uncertainty** as there is no way of predicting what the outcome will be."
   ]
  },
  {
   "cell_type": "markdown",
   "id": "0cb65f74-2bf4-4b88-b431-f3276ef524fd",
   "metadata": {},
   "source": [
    "### Mutual Information\n",
    "\n",
    "TODO\n"
   ]
  },
  {
   "cell_type": "code",
   "execution_count": null,
   "id": "8df6422d-cb08-47bd-aa04-a62bff5a2f0d",
   "metadata": {},
   "outputs": [],
   "source": []
  }
 ],
 "metadata": {
  "kernelspec": {
   "display_name": "Python 3 (ipykernel)",
   "language": "python",
   "name": "python3"
  },
  "language_info": {
   "codemirror_mode": {
    "name": "ipython",
    "version": 3
   },
   "file_extension": ".py",
   "mimetype": "text/x-python",
   "name": "python",
   "nbconvert_exporter": "python",
   "pygments_lexer": "ipython3",
   "version": "3.10.2"
  }
 },
 "nbformat": 4,
 "nbformat_minor": 5
}
