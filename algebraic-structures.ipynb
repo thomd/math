{
 "cells": [
  {
   "cell_type": "markdown",
   "metadata": {},
   "source": [
    "## Gruppe\n",
    "\n",
    "Eine **Gruppe** ist ein Paar $(G,*)$ bestehend aus einer **Menge** $G$ und einer **inneren zweistelligen Verknüpfung** $*$ auf $G$. Dabei erfüllt die Abbildung\n",
    "\n",
    "$$*: \\begin{cases}G \\times G \\to G\\\\(a,b) \\mapsto a * b\\end{cases}$$\n",
    "\n",
    "\n",
    "die geforderten **Gruppenaxiome**\n",
    "\n",
    "1. **Assoziativgesetz**: Für alle $a,b,c \\in G$ gilt: $a*(b*c)=(a*b)*c$\n",
    "\n",
    "\n",
    "2. **Neutrales Element**: Es gibt ein Element $e\\in G$, so dass für alle $a\\in G$ gilt: $a*e=a$\n",
    "\n",
    "\n",
    "3. **Inverses Element**: Zu jedem $a\\in G$ gibt es ein $a^{-1} \\in G$ mit $a*a^{-1}=e$\n",
    "\n",
    "Eine Gruppe $(G, *)$ heißt **abelsch**, wenn zusätzlich gilt\n",
    "\n",
    "4. **Kommutativgesetz**: Für alle $a, b \\in G$ gilt: $a * b = b * a$"
   ]
  },
  {
   "cell_type": "markdown",
   "metadata": {},
   "source": [
    "## Körper\n",
    "\n",
    "Ein **Körper** ist eine **Menge** $K$, versehen mit **zwei inneren zweistelligen Verknüpfungen** „$+$“ (genannt **Addition**) und „$\\cdot$“ (genannt **Multiplikation**), für die gilt:\n",
    "\n",
    "1. $(K, +)$ ist eine **abelsche Gruppe** (neutrales Element $0$)\n",
    "\n",
    "\n",
    "2. $(K \\setminus \\{0\\}, \\cdot )$ ist eine **abelsche Gruppe** (neutrales Element $1$)\n",
    "\n",
    "\n",
    "3. **Distributivgesetze**:\n",
    "    \n",
    "    $a \\cdot (b + c) = a \\cdot b + a \\cdot c$ für alle $a, b, c \\in K$\n",
    "    \n",
    "    $(a + b) \\cdot c = a \\cdot c + b \\cdot c$ für alle $a, b, c \\in K$\n"
   ]
  },
  {
   "cell_type": "markdown",
   "metadata": {},
   "source": [
    "## Verktorraum (Vector Space)\n",
    "\n",
    "Sei $V$ eine **Menge**, $(K, +, \\cdot)$ ein **Körper**, $+\\colon V \\times V \\to V$ eine **innere zweistellige Verknüpfung** (genannt Vektoraddition), und $\\cdot \\colon K\\times V\\to V$ eine **äußere zweistellige Verknüpfung** (genannt Skalarmultiplikation).\n",
    "\n",
    "Man nennt dann $(V, +, \\cdot)$ einen **Vektorraum** über dem Körper $K$, wenn für alle $u, v, w \\in V$ und $\\alpha, \\beta \\in K$ die folgenden Eigenschaften gelten:\n",
    "\n",
    "#### Vektoraddition\n",
    "\n",
    "1. $u + (v + w) = (u + v ) + w$ (**Assoziativgesetz**)\n",
    "\n",
    "\n",
    "2. Existenz eines **neutralen Elements** $0_V \\in V$ mit $v + 0_V = 0_V + v = v$\n",
    "\n",
    "\n",
    "3. Existenz eines zu $v\\in V$ **inversen Elements** $-v \\in V$ mit $v + (-v) = (-v) + v = 0_V$\n",
    "\n",
    "\n",
    "4. $v + u = u + v$ (**Kommutativgesetz**)\n",
    "\n",
    "#### Skalarmultiplikation\n",
    "\n",
    "1. $\\alpha \\cdot (u + v) = (\\alpha \\cdot u) + (\\alpha \\cdot v)$ (**Distributivgesetz**)\n",
    "\n",
    "\n",
    "2. $(\\alpha + \\beta) \\cdot v = (\\alpha \\cdot v) + (\\beta \\cdot v)$\n",
    "\n",
    "\n",
    "3. $(\\alpha \\cdot \\beta) \\cdot v = \\alpha \\cdot (\\beta \\cdot v)$\n",
    "\n",
    "\n",
    "4. Neutralität des Einselements $1 \\in K$, also $1 \\cdot v = v$\n",
    "\n",
    "### Invarianz\n",
    "\n",
    "* Vektoren sind invariant\n",
    "* Die Komponenten eines Vektors sind nicht invariant, sie sind kontravariant\n",
    "\n",
    "TODO: https://www.youtube.com/watch?v=uPbBDToXjBw"
   ]
  },
  {
   "cell_type": "code",
   "execution_count": null,
   "metadata": {},
   "outputs": [],
   "source": []
  }
 ],
 "metadata": {
  "kernelspec": {
   "display_name": "Python 3",
   "language": "python",
   "name": "python3"
  },
  "language_info": {
   "codemirror_mode": {
    "name": "ipython",
    "version": 3
   },
   "file_extension": ".py",
   "mimetype": "text/x-python",
   "name": "python",
   "nbconvert_exporter": "python",
   "pygments_lexer": "ipython3",
   "version": "3.7.4"
  }
 },
 "nbformat": 4,
 "nbformat_minor": 2
}
