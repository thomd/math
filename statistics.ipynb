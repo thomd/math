{
 "cells": [
  {
   "cell_type": "markdown",
   "metadata": {},
   "source": [
    "# Statistics\n",
    "\n",
    "## What is Statistics?\n",
    "\n",
    "Statistics is a way to get **information** from **data**:\n",
    "\n",
    "$$\\text{Data} \\to \\text{Information}$$\n",
    "\n",
    "Statistics is a **tool** for creating an **understanding** from a set of numbers.\n",
    "\n",
    "Statistics is the science of **changing your mind** under uncertainty ([Cassie Kozyrkov: Statistics for People in a hurry](https://towardsdatascience.com/statistics-for-people-in-a-hurry-a9613c0ed0b))."
   ]
  },
  {
   "cell_type": "markdown",
   "metadata": {},
   "source": [
    "### Terminology\n",
    "\n",
    "**Population**: The collection of all items that we are interested in (typically very large, sometimes infinite).\n",
    "\n",
    "**Sample**: Subset of the population (typically large, but less than the population). The sample is the **data you have** and the population is the data you _wish_ you had.\n",
    "\n",
    "**Statistic**: Descriptive measure of the sample (statistic and the discipline of statistics are different things).\n",
    "\n",
    "**Parameter**: Desriptive measure of the population. A parameter summarizes the population for you. It is typically denoted with $\\theta$.\n",
    "\n",
    "![a sample is a subset of a population](images/subset.svg)\n",
    "\n",
    "Suppose you are able to measure the population, then there is no uncertaintay, you have all the inforamtion — just calculate the average by using **analytics**. Then the statistic **is** the parameter because your sample is the population. You are dealing with **facts**, no complicated calculating is required."
   ]
  },
  {
   "cell_type": "markdown",
   "metadata": {},
   "source": [
    "**Observation**: A measurement from one single item in a sample.\n",
    "\n",
    "**Experiment**: A procedure that can be infinitely repeated and has a well-defined set of possible outcomes, known as the sample space. An experiment is said to be random if it has more than one possible outcome, and deterministic if it has only one.\n",
    "\n",
    "**Estimate**: best guess.\n",
    "\n",
    "**Descriptive Statistics**: methods of organizing, summarizing, and presenting data in an informative way.\n",
    "\n",
    "**Inferential Statistics**: methods used to draw conclusions or inferences about characteristics of populations based on data from a sample."
   ]
  },
  {
   "cell_type": "markdown",
   "metadata": {
    "tags": []
   },
   "source": [
    "## Statistical Inference\n",
    "\n",
    "Statistical inference is the process of making an estimate or prediction about a **population** based on a **sample**.\n",
    "\n",
    "![inference from a sample](images/inference.svg)\n",
    "\n",
    "What can we infer about a **population’s parameters** based on a **sample’s statistics**?\n",
    "\n",
    "### Confidence and Significance Level\n",
    "\n",
    "Statistical inferences are not always correct, therefore we definen a **confidence level** $1 - \\alpha$ (proportion of times that an estimating procedure will be correct) and a **significance level** $\\alpha$ (how frequently the conclusion will be wrong in\n",
    "the long run):\n",
    "\n",
    "$$\\text{confidence level} + \\text{significance level} = 1$$"
   ]
  },
  {
   "cell_type": "markdown",
   "metadata": {},
   "source": [
    "# Descriptive Statistics\n",
    "\n",
    "Typical methods of collecting data for statistical analysis are:\n",
    "\n",
    "1. Direct Observation\n",
    "2. Experiments\n",
    "3. Surveys\n",
    "\n"
   ]
  },
  {
   "cell_type": "markdown",
   "metadata": {},
   "source": [
    "## Meassure Data\n",
    "\n",
    "In statistics, a **variable** is an attribute of an object of study, also called **cases**.\n",
    "\n",
    "Data is generally divided into two categories, **quantitative data** and **categorical data**.\n",
    "\n",
    "**Categorical variables** represent **groupings** (sometimes as numbers). There are three types of categorical variables: **binary**, **nominal**, and **ordinal** variables.\n",
    "\n",
    "* **Binary variables** represent Yes/No values, e.g. heads/tails in a coin flip.\n",
    "* **Nominal variables** are groups with no rank or order, e.g. colors, species names.\n",
    "* **Ordinal variables** are groups that are ranked in a specific order, e.g. scaled responses in a survey, finishing place in a race.\n",
    "\n",
    "\n",
    "**Quantitative variables** represents **amounts** that can be added, subtracted, divided, etc. There are two types of quantitative variables, **discrete** and **continuous**.\n",
    "\n",
    "* **Discrete Variables** are counts of individual items or values, e.g. number of students in a class or number of different tree species in a forest.\n",
    "* **Continuous variables** (aka **ratio variables**) are measurements of continuous values, e.g. age, height or distance."
   ]
  },
  {
   "cell_type": "markdown",
   "metadata": {},
   "source": [
    "### Levels of Measurement\n",
    "\n",
    "Levels of measurement tell you **how precisely variables are recorded**:\n",
    "\n",
    "* **Nominal**: the data can only be categorized\n",
    "* **Ordinal**: the data can be categorized and ranked\n",
    "* **Interval**: the data can be categorized, ranked, and evenly spaced\n",
    "* **Ratio**: the data can be categorized, ranked, evenly spaced, and has a natural zero."
   ]
  },
  {
   "cell_type": "markdown",
   "metadata": {},
   "source": [
    "### Data Matrix\n",
    "\n",
    "A data matrix is the source of your statistical analysis: **rows** represent the **cases**, the objects of interest and **columns** represet the **variables**, the attributes of your objects. The values are called **observations**.\n",
    "\n",
    "In this example our **cases** are persons and our **variables** are height (interval data), weight (interval data), age (interval data) and gender (nominal data)."
   ]
  },
  {
   "cell_type": "code",
   "execution_count": 1,
   "metadata": {},
   "outputs": [
    {
     "data": {
      "text/html": [
       "<div>\n",
       "<style scoped>\n",
       "    .dataframe tbody tr th:only-of-type {\n",
       "        vertical-align: middle;\n",
       "    }\n",
       "\n",
       "    .dataframe tbody tr th {\n",
       "        vertical-align: top;\n",
       "    }\n",
       "\n",
       "    .dataframe thead th {\n",
       "        text-align: right;\n",
       "    }\n",
       "</style>\n",
       "<table border=\"1\" class=\"dataframe\">\n",
       "  <thead>\n",
       "    <tr style=\"text-align: right;\">\n",
       "      <th></th>\n",
       "      <th>height</th>\n",
       "      <th>weight</th>\n",
       "      <th>age</th>\n",
       "      <th>gender</th>\n",
       "    </tr>\n",
       "  </thead>\n",
       "  <tbody>\n",
       "    <tr>\n",
       "      <th>0</th>\n",
       "      <td>151.9</td>\n",
       "      <td>72.3</td>\n",
       "      <td>23</td>\n",
       "      <td>M</td>\n",
       "    </tr>\n",
       "    <tr>\n",
       "      <th>1</th>\n",
       "      <td>156.5</td>\n",
       "      <td>82.4</td>\n",
       "      <td>30</td>\n",
       "      <td>M</td>\n",
       "    </tr>\n",
       "    <tr>\n",
       "      <th>2</th>\n",
       "      <td>153.3</td>\n",
       "      <td>68.5</td>\n",
       "      <td>21</td>\n",
       "      <td>M</td>\n",
       "    </tr>\n",
       "    <tr>\n",
       "      <th>3</th>\n",
       "      <td>160.9</td>\n",
       "      <td>77.4</td>\n",
       "      <td>30</td>\n",
       "      <td>F</td>\n",
       "    </tr>\n",
       "    <tr>\n",
       "      <th>4</th>\n",
       "      <td>170.3</td>\n",
       "      <td>86.7</td>\n",
       "      <td>29</td>\n",
       "      <td>F</td>\n",
       "    </tr>\n",
       "    <tr>\n",
       "      <th>...</th>\n",
       "      <td>...</td>\n",
       "      <td>...</td>\n",
       "      <td>...</td>\n",
       "      <td>...</td>\n",
       "    </tr>\n",
       "    <tr>\n",
       "      <th>95</th>\n",
       "      <td>182.3</td>\n",
       "      <td>95.5</td>\n",
       "      <td>22</td>\n",
       "      <td>F</td>\n",
       "    </tr>\n",
       "    <tr>\n",
       "      <th>96</th>\n",
       "      <td>172.4</td>\n",
       "      <td>82.7</td>\n",
       "      <td>29</td>\n",
       "      <td>M</td>\n",
       "    </tr>\n",
       "    <tr>\n",
       "      <th>97</th>\n",
       "      <td>165.1</td>\n",
       "      <td>80.6</td>\n",
       "      <td>28</td>\n",
       "      <td>M</td>\n",
       "    </tr>\n",
       "    <tr>\n",
       "      <th>98</th>\n",
       "      <td>161.0</td>\n",
       "      <td>80.9</td>\n",
       "      <td>21</td>\n",
       "      <td>F</td>\n",
       "    </tr>\n",
       "    <tr>\n",
       "      <th>99</th>\n",
       "      <td>146.4</td>\n",
       "      <td>71.3</td>\n",
       "      <td>24</td>\n",
       "      <td>M</td>\n",
       "    </tr>\n",
       "  </tbody>\n",
       "</table>\n",
       "<p>100 rows × 4 columns</p>\n",
       "</div>"
      ],
      "text/plain": [
       "    height  weight  age gender\n",
       "0    151.9    72.3   23      M\n",
       "1    156.5    82.4   30      M\n",
       "2    153.3    68.5   21      M\n",
       "3    160.9    77.4   30      F\n",
       "4    170.3    86.7   29      F\n",
       "..     ...     ...  ...    ...\n",
       "95   182.3    95.5   22      F\n",
       "96   172.4    82.7   29      M\n",
       "97   165.1    80.6   28      M\n",
       "98   161.0    80.9   21      F\n",
       "99   146.4    71.3   24      M\n",
       "\n",
       "[100 rows x 4 columns]"
      ]
     },
     "execution_count": 1,
     "metadata": {},
     "output_type": "execute_result"
    }
   ],
   "source": [
    "import pandas as pd\n",
    "import numpy as np\n",
    "np.random.seed(0) \n",
    "import matplotlib.pyplot as plt\n",
    "plt.rcParams[\"figure.dpi\"] = 80\n",
    "import seaborn as sns\n",
    "\n",
    "n = 100\n",
    "\n",
    "var_height = 10 ** 2                  # variance of 'height'\n",
    "mean_height = 170\n",
    "\n",
    "var_weight = 8 ** 2                   # variance of 'weight'\n",
    "mean_weight = 85\n",
    "\n",
    "cov = 72                              # covaraince between 'height' and 'weight'\n",
    "\n",
    "cov_matrix = [[var_height, cov],\n",
    "              [cov, var_weight]]\n",
    "\n",
    "df = pd.DataFrame(np.round(np.random.multivariate_normal([mean_height, mean_weight], cov_matrix, n), decimals=1), columns=['height', 'weight'])\n",
    "\n",
    "df['age'] = np.random.randint(20, 31, n)                                          # discrete uniform distribution\n",
    "df['gender'] = ['M' if x == 0 else 'F' for x in np.random.randint(0, 2, n)]       # discrete uniform distribution\n",
    "\n",
    "df"
   ]
  },
  {
   "cell_type": "markdown",
   "metadata": {},
   "source": [
    "## Describe Data\n",
    "\n",
    "If you want to present your analyses to other people, you make use of **summaries** of your data.\n",
    "\n",
    "### Frequency Tables\n",
    "\n",
    "Frequency tables show how data is **distributed** over the cases.\n",
    "\n",
    "For **categorial data** this is done by summing up observations with the same value:"
   ]
  },
  {
   "cell_type": "code",
   "execution_count": 2,
   "metadata": {},
   "outputs": [
    {
     "data": {
      "text/html": [
       "<div>\n",
       "<style scoped>\n",
       "    .dataframe tbody tr th:only-of-type {\n",
       "        vertical-align: middle;\n",
       "    }\n",
       "\n",
       "    .dataframe tbody tr th {\n",
       "        vertical-align: top;\n",
       "    }\n",
       "\n",
       "    .dataframe thead th {\n",
       "        text-align: right;\n",
       "    }\n",
       "</style>\n",
       "<table border=\"1\" class=\"dataframe\">\n",
       "  <thead>\n",
       "    <tr style=\"text-align: right;\">\n",
       "      <th>col_0</th>\n",
       "      <th>observations</th>\n",
       "      <th>percent</th>\n",
       "    </tr>\n",
       "    <tr>\n",
       "      <th>gender</th>\n",
       "      <th></th>\n",
       "      <th></th>\n",
       "    </tr>\n",
       "  </thead>\n",
       "  <tbody>\n",
       "    <tr>\n",
       "      <th>F</th>\n",
       "      <td>56</td>\n",
       "      <td>0.56</td>\n",
       "    </tr>\n",
       "    <tr>\n",
       "      <th>M</th>\n",
       "      <td>44</td>\n",
       "      <td>0.44</td>\n",
       "    </tr>\n",
       "  </tbody>\n",
       "</table>\n",
       "</div>"
      ],
      "text/plain": [
       "col_0   observations  percent\n",
       "gender                       \n",
       "F                 56     0.56\n",
       "M                 44     0.44"
      ]
     },
     "execution_count": 2,
     "metadata": {},
     "output_type": "execute_result"
    }
   ],
   "source": [
    "s = pd.crosstab(index=df['gender'], columns='observations')\n",
    "s['percent'] = np.round(s / s.sum(), decimals=2)\n",
    "s"
   ]
  },
  {
   "cell_type": "markdown",
   "metadata": {},
   "source": [
    "**Quantitative data** can be encoded to **categorial data** (with a lost of information)."
   ]
  },
  {
   "cell_type": "code",
   "execution_count": 3,
   "metadata": {},
   "outputs": [
    {
     "data": {
      "text/html": [
       "<div>\n",
       "<style scoped>\n",
       "    .dataframe tbody tr th:only-of-type {\n",
       "        vertical-align: middle;\n",
       "    }\n",
       "\n",
       "    .dataframe tbody tr th {\n",
       "        vertical-align: top;\n",
       "    }\n",
       "\n",
       "    .dataframe thead th {\n",
       "        text-align: right;\n",
       "    }\n",
       "</style>\n",
       "<table border=\"1\" class=\"dataframe\">\n",
       "  <thead>\n",
       "    <tr style=\"text-align: right;\">\n",
       "      <th>col_0</th>\n",
       "      <th>observations</th>\n",
       "      <th>percent</th>\n",
       "    </tr>\n",
       "    <tr>\n",
       "      <th>height_bins</th>\n",
       "      <th></th>\n",
       "      <th></th>\n",
       "    </tr>\n",
       "  </thead>\n",
       "  <tbody>\n",
       "    <tr>\n",
       "      <th>(139, 149]</th>\n",
       "      <td>3</td>\n",
       "      <td>0.03</td>\n",
       "    </tr>\n",
       "    <tr>\n",
       "      <th>(149, 159]</th>\n",
       "      <td>12</td>\n",
       "      <td>0.12</td>\n",
       "    </tr>\n",
       "    <tr>\n",
       "      <th>(159, 169]</th>\n",
       "      <td>33</td>\n",
       "      <td>0.33</td>\n",
       "    </tr>\n",
       "    <tr>\n",
       "      <th>(169, 179]</th>\n",
       "      <td>32</td>\n",
       "      <td>0.32</td>\n",
       "    </tr>\n",
       "    <tr>\n",
       "      <th>(179, 189]</th>\n",
       "      <td>19</td>\n",
       "      <td>0.19</td>\n",
       "    </tr>\n",
       "    <tr>\n",
       "      <th>(189, 199]</th>\n",
       "      <td>1</td>\n",
       "      <td>0.01</td>\n",
       "    </tr>\n",
       "  </tbody>\n",
       "</table>\n",
       "</div>"
      ],
      "text/plain": [
       "col_0        observations  percent\n",
       "height_bins                       \n",
       "(139, 149]              3     0.03\n",
       "(149, 159]             12     0.12\n",
       "(159, 169]             33     0.33\n",
       "(169, 179]             32     0.32\n",
       "(179, 189]             19     0.19\n",
       "(189, 199]              1     0.01"
      ]
     },
     "execution_count": 3,
     "metadata": {},
     "output_type": "execute_result"
    }
   ],
   "source": [
    "df['height_bins'] = pd.cut(x=df['height'], bins=[130, 139, 149, 159, 169, 179, 189, 199])\n",
    "df['weight_bins'] = pd.cut(x=df['weight'], bins=[50, 59, 69, 79, 89, 99, 109])\n",
    "\n",
    "h = pd.crosstab(index=df['height_bins'], columns='observations')\n",
    "h['percent'] = np.round(h / h.sum(), decimals=2)\n",
    "h"
   ]
  },
  {
   "cell_type": "code",
   "execution_count": 4,
   "metadata": {},
   "outputs": [
    {
     "data": {
      "text/html": [
       "<div>\n",
       "<style scoped>\n",
       "    .dataframe tbody tr th:only-of-type {\n",
       "        vertical-align: middle;\n",
       "    }\n",
       "\n",
       "    .dataframe tbody tr th {\n",
       "        vertical-align: top;\n",
       "    }\n",
       "\n",
       "    .dataframe thead th {\n",
       "        text-align: right;\n",
       "    }\n",
       "</style>\n",
       "<table border=\"1\" class=\"dataframe\">\n",
       "  <thead>\n",
       "    <tr style=\"text-align: right;\">\n",
       "      <th></th>\n",
       "      <th>height</th>\n",
       "      <th>weight</th>\n",
       "      <th>age</th>\n",
       "      <th>gender</th>\n",
       "      <th>height_bins</th>\n",
       "      <th>weight_bins</th>\n",
       "    </tr>\n",
       "  </thead>\n",
       "  <tbody>\n",
       "    <tr>\n",
       "      <th>0</th>\n",
       "      <td>151.9</td>\n",
       "      <td>72.3</td>\n",
       "      <td>23</td>\n",
       "      <td>M</td>\n",
       "      <td>(149, 159]</td>\n",
       "      <td>(69, 79]</td>\n",
       "    </tr>\n",
       "    <tr>\n",
       "      <th>1</th>\n",
       "      <td>156.5</td>\n",
       "      <td>82.4</td>\n",
       "      <td>30</td>\n",
       "      <td>M</td>\n",
       "      <td>(149, 159]</td>\n",
       "      <td>(79, 89]</td>\n",
       "    </tr>\n",
       "    <tr>\n",
       "      <th>2</th>\n",
       "      <td>153.3</td>\n",
       "      <td>68.5</td>\n",
       "      <td>21</td>\n",
       "      <td>M</td>\n",
       "      <td>(149, 159]</td>\n",
       "      <td>(59, 69]</td>\n",
       "    </tr>\n",
       "    <tr>\n",
       "      <th>3</th>\n",
       "      <td>160.9</td>\n",
       "      <td>77.4</td>\n",
       "      <td>30</td>\n",
       "      <td>F</td>\n",
       "      <td>(159, 169]</td>\n",
       "      <td>(69, 79]</td>\n",
       "    </tr>\n",
       "    <tr>\n",
       "      <th>4</th>\n",
       "      <td>170.3</td>\n",
       "      <td>86.7</td>\n",
       "      <td>29</td>\n",
       "      <td>F</td>\n",
       "      <td>(169, 179]</td>\n",
       "      <td>(79, 89]</td>\n",
       "    </tr>\n",
       "    <tr>\n",
       "      <th>...</th>\n",
       "      <td>...</td>\n",
       "      <td>...</td>\n",
       "      <td>...</td>\n",
       "      <td>...</td>\n",
       "      <td>...</td>\n",
       "      <td>...</td>\n",
       "    </tr>\n",
       "    <tr>\n",
       "      <th>95</th>\n",
       "      <td>182.3</td>\n",
       "      <td>95.5</td>\n",
       "      <td>22</td>\n",
       "      <td>F</td>\n",
       "      <td>(179, 189]</td>\n",
       "      <td>(89, 99]</td>\n",
       "    </tr>\n",
       "    <tr>\n",
       "      <th>96</th>\n",
       "      <td>172.4</td>\n",
       "      <td>82.7</td>\n",
       "      <td>29</td>\n",
       "      <td>M</td>\n",
       "      <td>(169, 179]</td>\n",
       "      <td>(79, 89]</td>\n",
       "    </tr>\n",
       "    <tr>\n",
       "      <th>97</th>\n",
       "      <td>165.1</td>\n",
       "      <td>80.6</td>\n",
       "      <td>28</td>\n",
       "      <td>M</td>\n",
       "      <td>(159, 169]</td>\n",
       "      <td>(79, 89]</td>\n",
       "    </tr>\n",
       "    <tr>\n",
       "      <th>98</th>\n",
       "      <td>161.0</td>\n",
       "      <td>80.9</td>\n",
       "      <td>21</td>\n",
       "      <td>F</td>\n",
       "      <td>(159, 169]</td>\n",
       "      <td>(79, 89]</td>\n",
       "    </tr>\n",
       "    <tr>\n",
       "      <th>99</th>\n",
       "      <td>146.4</td>\n",
       "      <td>71.3</td>\n",
       "      <td>24</td>\n",
       "      <td>M</td>\n",
       "      <td>(139, 149]</td>\n",
       "      <td>(69, 79]</td>\n",
       "    </tr>\n",
       "  </tbody>\n",
       "</table>\n",
       "<p>100 rows × 6 columns</p>\n",
       "</div>"
      ],
      "text/plain": [
       "    height  weight  age gender height_bins weight_bins\n",
       "0    151.9    72.3   23      M  (149, 159]    (69, 79]\n",
       "1    156.5    82.4   30      M  (149, 159]    (79, 89]\n",
       "2    153.3    68.5   21      M  (149, 159]    (59, 69]\n",
       "3    160.9    77.4   30      F  (159, 169]    (69, 79]\n",
       "4    170.3    86.7   29      F  (169, 179]    (79, 89]\n",
       "..     ...     ...  ...    ...         ...         ...\n",
       "95   182.3    95.5   22      F  (179, 189]    (89, 99]\n",
       "96   172.4    82.7   29      M  (169, 179]    (79, 89]\n",
       "97   165.1    80.6   28      M  (159, 169]    (79, 89]\n",
       "98   161.0    80.9   21      F  (159, 169]    (79, 89]\n",
       "99   146.4    71.3   24      M  (139, 149]    (69, 79]\n",
       "\n",
       "[100 rows x 6 columns]"
      ]
     },
     "execution_count": 4,
     "metadata": {},
     "output_type": "execute_result"
    }
   ],
   "source": [
    "df"
   ]
  },
  {
   "cell_type": "markdown",
   "metadata": {},
   "source": [
    "### Categorial Data\n",
    "\n",
    "Using a **pie chart**, one can immediatelly see **percentage**. Using a **bar chart**, one can easily retrieve **exact numbers**. A bar chart has advantanges in favor of a pie chart if the nuber of categories increases.\n",
    "\n",
    "The **center of a distribution** can be described by the **mode**. The mode is the value which appears **most frequently** (can immediatelly been seen using a pie-chart). There can be multiple modes."
   ]
  },
  {
   "cell_type": "code",
   "execution_count": 5,
   "metadata": {},
   "outputs": [
    {
     "data": {
      "text/html": [
       "<div>\n",
       "<style scoped>\n",
       "    .dataframe tbody tr th:only-of-type {\n",
       "        vertical-align: middle;\n",
       "    }\n",
       "\n",
       "    .dataframe tbody tr th {\n",
       "        vertical-align: top;\n",
       "    }\n",
       "\n",
       "    .dataframe thead th {\n",
       "        text-align: right;\n",
       "    }\n",
       "</style>\n",
       "<table border=\"1\" class=\"dataframe\">\n",
       "  <thead>\n",
       "    <tr style=\"text-align: right;\">\n",
       "      <th></th>\n",
       "      <th>height</th>\n",
       "      <th>weight</th>\n",
       "      <th>age</th>\n",
       "      <th>gender</th>\n",
       "      <th>height_bins</th>\n",
       "      <th>weight_bins</th>\n",
       "    </tr>\n",
       "  </thead>\n",
       "  <tbody>\n",
       "    <tr>\n",
       "      <th>0</th>\n",
       "      <td>160.9</td>\n",
       "      <td>87.5</td>\n",
       "      <td>21</td>\n",
       "      <td>F</td>\n",
       "      <td>(159.0, 169.0]</td>\n",
       "      <td>(79.0, 89.0]</td>\n",
       "    </tr>\n",
       "    <tr>\n",
       "      <th>1</th>\n",
       "      <td>177.1</td>\n",
       "      <td>NaN</td>\n",
       "      <td>24</td>\n",
       "      <td>NaN</td>\n",
       "      <td>NaN</td>\n",
       "      <td>NaN</td>\n",
       "    </tr>\n",
       "  </tbody>\n",
       "</table>\n",
       "</div>"
      ],
      "text/plain": [
       "   height  weight  age gender     height_bins   weight_bins\n",
       "0   160.9    87.5   21      F  (159.0, 169.0]  (79.0, 89.0]\n",
       "1   177.1     NaN   24    NaN             NaN           NaN"
      ]
     },
     "execution_count": 5,
     "metadata": {},
     "output_type": "execute_result"
    }
   ],
   "source": [
    "df.mode()"
   ]
  },
  {
   "cell_type": "markdown",
   "metadata": {},
   "source": [
    "### Quantitative Data\n",
    "\n",
    "For a small sample, use a **dotplot**, for many observations, use a **histogram**.\n",
    "\n",
    "The **center of a distribution** can be described by the **median** or the **mean**. \n",
    "\n",
    "#### Median\n",
    "\n",
    "The median is the middle value of your observations when they are ordered from the smallest to the largest. Use the median if you have outliers. "
   ]
  },
  {
   "cell_type": "code",
   "execution_count": 6,
   "metadata": {},
   "outputs": [
    {
     "data": {
      "text/plain": [
       "height    170.1\n",
       "weight     85.9\n",
       "age        25.0\n",
       "dtype: float64"
      ]
     },
     "execution_count": 6,
     "metadata": {},
     "output_type": "execute_result"
    }
   ],
   "source": [
    "df[[\"height\", \"weight\", \"age\"]].median()"
   ]
  },
  {
   "cell_type": "markdown",
   "metadata": {},
   "source": [
    "#### Mean\n",
    "\n",
    "The **mean** $\\mu$ or $\\overline{x}$ is the sum of all the values divided by the number of observation ${x_1, x_2, ..., x_N}$ (sample size):\n",
    "\n",
    "$$\\mu = \\overline{x} = \\frac{1}{N}\\displaystyle\\sum_{i=1}^{N} x_i$$"
   ]
  },
  {
   "cell_type": "code",
   "execution_count": 7,
   "metadata": {},
   "outputs": [
    {
     "data": {
      "text/plain": [
       "height    169.771\n",
       "weight     85.321\n",
       "age        24.990\n",
       "dtype: float64"
      ]
     },
     "execution_count": 7,
     "metadata": {},
     "output_type": "execute_result"
    }
   ],
   "source": [
    "df[[\"height\", \"weight\", \"age\"]].mean()"
   ]
  },
  {
   "cell_type": "markdown",
   "metadata": {},
   "source": [
    "#### Standard Deviation\n",
    "\n",
    "The **variance** is \n",
    "\n",
    "$$\\text{var}(X)= s = \\frac{1}{n-1}\\displaystyle\\sum_{i=1}^{n} \\left( x_i - \\overline{x} \\right)^2$$\n",
    "\n",
    "and the **standard deviation** $\\sigma$ is \n",
    "\n",
    "$$\\sigma = \\sqrt{s}$$\n",
    "\n",
    "The differences of the mean from the actual values are squared to prevent positive and negative deviations from neutralizing each other. As a result, the unit of the **variance** is squared which may result in a bad interpretation, e.g. the variance of a length is an area. Therefore we use the square-root of the variance as **standard variation** in order to have correct dimensions."
   ]
  },
  {
   "cell_type": "code",
   "execution_count": 8,
   "metadata": {},
   "outputs": [
    {
     "data": {
      "text/plain": [
       "height    104.652181\n",
       "weight     68.293595\n",
       "age         9.747374\n",
       "dtype: float64"
      ]
     },
     "execution_count": 8,
     "metadata": {},
     "output_type": "execute_result"
    }
   ],
   "source": [
    "df[[\"height\", \"weight\", \"age\"]].var()"
   ]
  },
  {
   "cell_type": "code",
   "execution_count": 9,
   "metadata": {},
   "outputs": [
    {
     "data": {
      "text/plain": [
       "height    10.229965\n",
       "weight     8.263994\n",
       "age        3.122078\n",
       "dtype: float64"
      ]
     },
     "execution_count": 9,
     "metadata": {},
     "output_type": "execute_result"
    }
   ],
   "source": [
    "df[[\"height\", \"weight\", \"age\"]].std()"
   ]
  },
  {
   "cell_type": "code",
   "execution_count": 10,
   "metadata": {},
   "outputs": [
    {
     "data": {
      "image/png": "[encoded data removed]",
      "text/plain": [
       "<Figure size 400x400 with 1 Axes>"
      ]
     },
     "metadata": {},
     "output_type": "display_data"
    }
   ],
   "source": [
    "sns.displot(df.height, bins=20);"
   ]
  },
  {
   "cell_type": "markdown",
   "metadata": {},
   "source": [
    "#### Standardization with z-Score\n",
    "\n",
    "In order to find out if a **specific observation** is **common** or **exceptional**, we calculate the **z-score** or **standard score**:\n",
    "\n",
    "$$z = \\frac{x-\\mu}{\\sigma}$$\n",
    "\n",
    "The **relative deviation** is normalized to the standard deviation with $\\mu = 0$ and $\\sigma = 1$.\n",
    "\n",
    "If the histogram of your variable is bell shaped, then\n",
    "\n",
    "* **68%** of the observations fall between z-scores **-1** and **1**\n",
    "* **95%** between z-scores of **-2** and **2**\n",
    "* **99%** between z-scores of **-3** and **3**\n",
    "\n",
    "This means that for a bell shaped distribution, a **z-score** of more than 3 or less than -3 can be conceived of as rather **exceptional**."
   ]
  },
  {
   "cell_type": "code",
   "execution_count": 11,
   "metadata": {},
   "outputs": [
    {
     "data": {
      "image/png": "[encoded data removed]",
      "text/plain": [
       "<Figure size 512x384 with 1 Axes>"
      ]
     },
     "metadata": {},
     "output_type": "display_data"
    }
   ],
   "source": [
    "from scipy.stats import norm\n",
    "\n",
    "mu = df.height.mean()\n",
    "sigma = df.height.std()\n",
    "z = (df.height - mu) / sigma\n",
    "plt.hist(z, bins=20, alpha=0.5, density=True)\n",
    "\n",
    "x = np.linspace(-3, 3, 100)\n",
    "p = norm.pdf(x, 0, 1)\n",
    "plt.plot(x, p, linewidth=2);"
   ]
  },
  {
   "cell_type": "markdown",
   "metadata": {},
   "source": [
    "A rule that applies to any distribution regardless of its shape shape, is that \n",
    "\n",
    "* **75%** of the data must lie within a z-score of **±2**\n",
    "* **89%** within a z-score of **±3**.\n",
    "\n",
    "So in itself a z-score gives you, to a certain extent, information about how extreme an observation is."
   ]
  },
  {
   "cell_type": "markdown",
   "metadata": {},
   "source": [
    "#### Quantiles\n",
    "\n",
    "The **variability of a distribution** can be described by the **range**. The range is the difference between the highest and the lowest value. \n",
    "\n",
    "More feasible for describing the variability is the **interquartile range**, as it leaves out the extreme values. the interquartile range divides your distribution into **four equal parts**. The three dividers are called first quartile $\\text{Q1}$, second quartile $\\text{Q2}$ and third quartile $\\text{Q3}$. \n",
    "\n",
    "The **first quartile** $\\text{Q1}$ (lower quartile) is equal to the **25th percentile** of your sample.\n",
    "\n",
    "The **second quartile** $\\text{Q2}$ is the same as the **median** of your sample.\n",
    "\n",
    "The **third quartile** $\\text{Q3}$ (upper quartile) is equal to the **75th percentile** of your sample\n",
    "\n",
    "The **interquartile range** $\\text{IQR} = \\text{Q3} - \\text{Q1}$ is not affected by outliers.\n",
    "\n",
    "As a rule of thumb, observations can be qualified as **outliers** if\n",
    "\n",
    "$$x_{LO} < \\text{Q1} - 1.5 \\cdot \\text{IQR} \\quad \\text{or} \\quad x_{RO} > \\text{Q3} + 1.5 \\cdot \\text{IQR}$$"
   ]
  },
  {
   "cell_type": "code",
   "execution_count": 12,
   "metadata": {},
   "outputs": [
    {
     "data": {
      "text/plain": [
       "array([2.5, 5. , 7.5])"
      ]
     },
     "execution_count": 12,
     "metadata": {},
     "output_type": "execute_result"
    }
   ],
   "source": [
    "import numpy as np\n",
    "\n",
    "x = np.array([0,1,2,3,4,5,6,7,8,9,10])\n",
    "np.percentile(x, [25, 50, 75], method='midpoint')"
   ]
  },
  {
   "cell_type": "code",
   "execution_count": 13,
   "metadata": {},
   "outputs": [
    {
     "data": {
      "text/plain": [
       "5.0"
      ]
     },
     "execution_count": 13,
     "metadata": {},
     "output_type": "execute_result"
    }
   ],
   "source": [
    "iqr = np.percentile(x, 75) - np.percentile(x, 25)\n",
    "iqr"
   ]
  },
  {
   "cell_type": "markdown",
   "metadata": {},
   "source": [
    "#### Box Plot\n",
    "\n",
    "![boxplot](images/boxplot.svg)\n",
    "\n",
    "The box plot is very useful for describing center and variability, and detecting outliers.\n",
    "\n",
    "The box plot shows you at a glance\n",
    "\n",
    "* the **maximum** value that is not an outlier:  $\\text{Q3} + 1.5 \\cdot \\text{IQR}$\n",
    "* $\\text{Q3}$\n",
    "* $\\text{Q2}$ or the **median**\n",
    "* $\\text{Q1}$\n",
    "* the **minimum** value that is not an outlier:  $\\text{Q1} - 1.5 \\cdot \\text{IQR}$\n",
    "* the **outliers**"
   ]
  },
  {
   "cell_type": "code",
   "execution_count": 14,
   "metadata": {},
   "outputs": [
    {
     "name": "stdout",
     "output_type": "stream",
     "text": [
      "data 2:\n",
      "  IQR:                 3.72\n",
      "  Max (data):          12.29\n",
      "  Max (not outlier):   12.84\n",
      "  Q3 (75%):            7.26\n",
      "  Q2 (50% / Median):   4.81\n",
      "  Mean:                5.27\n",
      "  Q1 (25%):            3.54\n",
      "  Min (not outlier):   -2.04\n",
      "  Min (data):          -3.58\n",
      "  Standard Deviation:  2.79\n",
      "  Variance:            7.8\n"
     ]
    }
   ],
   "source": [
    "import matplotlib.pyplot as plt\n",
    "import numpy as np\n",
    "np.random.seed(5)\n",
    "\n",
    "data2 = np.random.normal(5, 3, 100)\n",
    "data1 = np.array([0, 1, 2, 3, 4, 5, 6, 7, 8, 9, 10])\n",
    "\n",
    "print('data 2:')\n",
    "iqr = np.percentile(data2, 75) - np.percentile(data2, 25)\n",
    "print(f'  IQR:                 {np.round(iqr, 2)}')\n",
    "print(f'  Max (data):          {np.round(np.max(data2), 2)}')\n",
    "print(f'  Max (not outlier):   {np.round(np.percentile(data2, 75) + 1.5 * iqr, 2)}')\n",
    "print(f'  Q3 (75%):            {np.round(np.percentile(data2, 75), 2)}')\n",
    "print(f'  Q2 (50% / Median):   {np.round(np.percentile(data2, 50), 2)}')\n",
    "print(f'  Mean:                {np.round(np.mean(data2), 2)}')\n",
    "print(f'  Q1 (25%):            {np.round(np.percentile(data2, 25), 2)}')\n",
    "print(f'  Min (not outlier):   {np.round(np.percentile(data2, 25) - 1.5 * iqr, 2)}')\n",
    "print(f'  Min (data):          {np.round(np.min(data2), 2)}')\n",
    "print(f'  Standard Deviation:  {np.round(np.std(data2), 2)}')\n",
    "print(f'  Variance:            {np.round(np.var(data2), 2)}')"
   ]
  },
  {
   "cell_type": "code",
   "execution_count": 15,
   "metadata": {},
   "outputs": [
    {
     "data": {
      "image/png": "[encoded data removed]",
      "text/plain": [
       "<Figure size 512x384 with 1 Axes>"
      ]
     },
     "metadata": {},
     "output_type": "display_data"
    }
   ],
   "source": [
    "plt.boxplot([data1, data2], vert=0, showmeans=True, whis=1.5, labels=['data 1', 'data 2'])\n",
    "plt.grid();"
   ]
  },
  {
   "cell_type": "markdown",
   "metadata": {},
   "source": [
    "# Probability\n",
    "\n",
    "**Probability** is just a measure of the **likelihood** of some set of events happening.\n",
    "\n",
    "The **theory of probability** allows the transition from random samples to the population.\n",
    "\n",
    "A **random experiment** $E$ is an process that leads to one of many possible **outcomes**. The set of possible outcomes is called the **sample space**:\n",
    "\n",
    "$$S = \\{ O_1, O_2, \\dotsc \\}$$\n",
    "\n",
    "An **event** $A$ is the set of one or more simple events in a sample space. A **simple event** is an individual outcome in the sample space.\n",
    "\n",
    "Two events are **mutually exclusive** when they have no common elements, i.e. $A \\cap B = \\emptyset$. Two sets are **non-mutually exclusive** if they share common elements. Knowing whether two events are mutually exclusive influences the calculation of the probability that one or the other occurs.\n",
    "\n",
    "Two events are **independent** if the occurrence of one does not change the probability of the other occurring. Two events are **dependent**, we need to take into account what has already happened.\n",
    "\n",
    "#### Examples\n",
    "\n",
    "The experiment \"_roll a dice_\" has the sample space $S = \\{1, 2, 3, 4, 5, 6\\}$. Then the \"_outcome of an odd number_\" is an **event** $A = \\{1, 3, 5\\}$ and the \"_outcome of 3_\" is a **simple event** $B = \\{3\\}$. Also event $A$ and $B$ are **non-mutual exclusive** as they share the elements $\\{3\\}$.\n",
    "\n",
    "The experiment \"_flip a coin_\" has the sample space $S = \\{ \\text{head}, \\text{tail} \\}$. Then the events $A = \\{ \\text{head} \\}$ and $B = \\{ \\text{tail} \\}$ are **mutually exclusive**.\n",
    "\n",
    "The experiment \"_draw one colored ball from an urn and place back, then repeat_\" has the sample space $S = \\{ \\text{red}, \\text{blue} \\}$. Then the events $A = \\{ \\text{first is red} \\}$ and $B = \\{ \\text{second is blue} \\}$ are **independent**.\n",
    "\n",
    "The experiment \"_draw colored balls from an urn without placing back_\" has the sample space $S = \\{ \\text{red}, \\text{blue} \\}$. Then the events $A = \\{ \\text{first is red} \\}$ and $B = \\{ \\text{second is blue} \\}$ are **dependent**."
   ]
  },
  {
   "cell_type": "markdown",
   "metadata": {},
   "source": [
    "## Assigning Probabilities to Events\n",
    "\n",
    "Probabilities are assigned with three approaches:\n",
    "\n",
    "1. Classical approach\n",
    "2. Relative frequency approach\n",
    "3. Subjective approach"
   ]
  },
  {
   "cell_type": "markdown",
   "metadata": {},
   "source": [
    "### Classical (axiomatic) approach\n",
    "\n",
    "This approach states that the way to handle $P$ is to define a **mathematical function**, called a **probability measure**, on the sample space. Probability measures satisfy certain axioms and have special mathematical properties, so not just any mathematical function will do.\n",
    "\n",
    "If an experiment has $n$ simple outcomes, this method would assign a probability of $1/n$ to each outcome.\n",
    "\n",
    "#### Example\n",
    "\n",
    "When rolling a die, $S = \\{1, 2, \\dots, 6\\}$, then each simple event has a $1/6$ chance of occurring.\n",
    "\n",
    "When rolling a die twice (assumption: the two rolls are **independent**), $S = \\{(1, 1), (1, 2), \\dots , (6, 6)\\}$, then each simple event has a $1/6 \\cdot 1/6 = 1/36$ chance of occurring."
   ]
  },
  {
   "cell_type": "markdown",
   "metadata": {},
   "source": [
    "### Relative-frequency approach\n",
    "\n",
    "Probabilities are assigned on the basis of **experimentation** or historical data.\n",
    "\n",
    "Let $n$ be the number of times an event $A$ _could have_ occurred in an experiment. Further, let $n_A$ be the number of times the event $A$ _did actually_ occur.\n",
    "\n",
    "Then we _attempt_ to define $P(A)$ using the **relative frequency** as:\n",
    "\n",
    "$$\n",
    "P(A) = \\lim_{n \\to \\infty} \\frac{n_A}{n}\n",
    "$$\n",
    "\n",
    "The above can only be viewed as an attempt because it is not physically feasible to repeat an experiment an infinite number of times.\n",
    "\n",
    "The mathematical underpinning of this approach is the **Law of Large Numbers** (LLN): \n",
    "\n",
    "$$\n",
    "\\lim_{n \\to \\infty} \\sum_{i=1}^n \\frac{X_i}{n} = \\overline{X}\n",
    "$$\n",
    "\n",
    "The **average** of the results obtained from a large number of trials should be close to the **expected** value and tends to become closer to the expected value as more trials are performed.\n",
    "\n",
    "#### Example\n",
    "\n",
    "When rolling a die $S = \\{1, 2, \\dots, 6\\}$, 100 times, let's suppose the number of times the outcome 1 is observed is 15. Thus, $A = \\{1\\}$, $n_A = 15$, and $n = 100$. \n",
    "\n",
    "Therefore, we say that \n",
    "\n",
    "$$P(A) = P(\\{1\\}) \\approx 15/100 = 0.15$$"
   ]
  },
  {
   "cell_type": "markdown",
   "metadata": {},
   "source": [
    "### Subjective approach\n",
    "\n",
    "The subjective approach interprets probability as the experimenter’s degree of belief that the event will occur. The estimate of the probability of an event is based on the totality of the individual’s knowledge at the time. As new information becomes available, the estimate is modified accordingly to best reflect his/her current knowledge.\n",
    "\n",
    "We define probability as the degree of **belief** that we hold in the occurrence of an event. Thus, **judgment** is used as the basis for assigning probabilities.\n",
    "\n",
    "Notice that the classical approach of assigning equal probabilities to simple events is, in fact, also based on judgment. What is somewhat different here is that the use of the subjective approach is usually limited to experiments that are **unrepeatable**.\n",
    "\n",
    "#### Example\n",
    "\n",
    "Consider a horse race with 8 horses running. What is the probability for a particular horse to win? \n",
    "\n",
    "It is not reasonable to assume that the probability is $1/8$. Also we can’t apply the relative-frequency approach.\n",
    "\n",
    "Having different judgments is what makes **betting** possible: People place bets on the outcomes of such **onetime experiments** based on their judgment how likely it is for a particular horse to win."
   ]
  },
  {
   "cell_type": "markdown",
   "metadata": {},
   "source": [
    "## Probability Rules\n",
    "\n",
    "Given a **sample space** $S = \\{ O_1, O_2, \\dotsc \\}$, then the **probabilities** assigned to events must satisfy these requirements:\n",
    "\n",
    "The probability of any **event** must be non-negative:\n",
    "\n",
    "$$P(O_i) \\geq 0$$\n",
    "\n",
    "The probability of the entire **sample space** must be 1:\n",
    "\n",
    "$$P(S) = 1$$"
   ]
  },
  {
   "cell_type": "markdown",
   "metadata": {
    "tags": []
   },
   "source": [
    "### Intersection / Multiplication / Joint Probability\n",
    "\n",
    "**Multi-step random experiments** are random experiments that consist of several steps that are also random experiments in themselves. A simple example is repeating a single random experiment several times. Multi-step random experiments can often be illustrated by **tree diagrams**.\n",
    "\n",
    "TODO: https://www.siyavula.com/read/maths/grade-11/probability/10-probability-02\n",
    "\n",
    "The **intersection** operation $\\cap$ corresponds to \"**and**\".\n",
    "\n",
    "#### Independent Events\n",
    "\n",
    "Two events $A$ and $B$ are called (stochastically) **independent** of each other if the occurrence of one event does not change the probability of the occurrence of the other event.\n",
    "\n",
    "If two events are **independent**, then the joint probability is\n",
    "\n",
    "$$\n",
    "P(A \\cap B) = P(A) \\cdot P(B)\n",
    "$$\n",
    "\n",
    "sometimes written as\n",
    "\n",
    "$$\n",
    "P(A, B) = P(A) \\cdot P(B)\n",
    "$$\n",
    "\n",
    "Vice versa, two events are **independent** if and only if\n",
    "\n",
    "$$\n",
    "P(A \\cap B) = P(A) \\cdot P(B)\n",
    "$$\n",
    "\n",
    "If two events are **dependent**, then the joint probability is\n",
    "\n",
    "$$\n",
    "P(A \\cap B) = P(A) \\cdot P(B \\mid A)\n",
    "$$\n",
    "\n",
    "Calculating **joint probabilities** can be visualized as multiplying probabilities along the branches of a **probability tree**:\n",
    "\n",
    "![Probability Tree](images/probability-tree.svg)\n",
    "\n",
    "If two events are **mutually exclusive** or **disjoint**, so only one of the events can happen at a time, then\n",
    "\n",
    "$$\n",
    "P(A \\cap B) = \\emptyset\n",
    "$$\n",
    "\n",
    "#### Example\n",
    "\n",
    "Given a deck of 52 cards, what is the probability to pick a black five.\n",
    "\n",
    "&rarr; The events $A = \\{ \\text{black} \\}$ and $B = \\{ \\text{five} \\}$ are **non-mutual exclusive** and **independent**, hence\n",
    "\n",
    "$$\n",
    "P(A \\cap B) = P(A) \\cdot P(B) = \\frac{1}{2} \\cdot \\frac{4}{52} = \\frac{1}{26}\n",
    "$$\n",
    "\n",
    "(there are two black fives in a deck of 52 cards, the five of spades and the five of clubs).\n",
    "\n",
    "#### Example\n",
    "\n",
    "Given a fair dice, what is the probability of drawing a number larger $3$ and a multiple of $3$?\n",
    "\n",
    "&rarr; The events $A = \\{ 4, 5, 6 \\}$ and $B = \\{ 3, 6 \\}$ are **non-mutual exclusive**, hence can happen at the same time with a probability of:\n",
    "\n",
    "$$\n",
    "P(A \\cap B) = \\frac{1}{6}\n",
    "$$\n",
    "\n",
    "In a multi-step experiment, the probability is\n",
    "\n",
    "$$\n",
    "P(A) \\cdot P(B) = \\frac{1}{2} \\cdot \\frac{1}{3} = \\frac{1}{6}\n",
    "$$\n",
    "\n",
    "hence $A$ and $B$ are **independent** events.\n",
    "\n",
    "#### Example\n",
    "\n",
    "Given a fair dice, what is the probability of drawing an even number larger $3$?\n",
    "\n",
    "&rarr; The events $A = \\{ 4, 5, 6 \\}$ and $B = \\{ 2, 4, 6 \\}$ are **non-mutual exclusive**, hence can happen at the same time with a probability of:\n",
    "\n",
    "$$\n",
    "P(A \\cap B) = P(\\{ 4, 6\\}) = \\frac{2}{6} = \\frac{1}{3}\n",
    "$$\n",
    "\n",
    "In a multi-step experiment, the probability is\n",
    "\n",
    "$$\n",
    "P(A) \\cdot P(B) = \\frac{3}{6} \\cdot \\frac{3}{6} = \\frac{1}{2} \\cdot \\frac{1}{2}  = \\frac{1}{4}\n",
    "$$\n",
    "\n",
    "hence $A$ and $B$ are **dependent** events."
   ]
  },
  {
   "cell_type": "markdown",
   "metadata": {},
   "source": [
    "### Union / Addition\n",
    "\n",
    "The **union** operation $\\cup$ corresponds to \"**or**\".\n",
    "\n",
    "If two events are  **non-mutually exclusive** (\"overlap\"), then we must substract one of the overlapping events\n",
    "\n",
    "$$\n",
    "P(A \\cup B) = P(A) + P(B) - P(A \\cap B)\n",
    "$$\n",
    "\n",
    "If two events are **mutually exclusive**, then\n",
    "\n",
    "$$P(A \\cup B) = P(A) + P(B)$$\n",
    "\n",
    "If $A$ is a subset of $B$, that is $A \\subset B$, then\n",
    "\n",
    "$$P(A \\cup B) = P(B)$$\n",
    "\n",
    "#### Example\n",
    "\n",
    "A box contains 2 red, 4 green, 5 blue and 3 yellow balls. If a single random ball is chosen, what is the probability that it is red or green?\n",
    "\n",
    "&rarr; The events $A = \\{ \\text{red} \\}$ and $B = \\{ \\text{green} \\}$ are **mutual exclusive**, hence\n",
    "\n",
    "$$\n",
    "P(A \\cup B) = P(A) + P(B) = \\frac{2}{14} + \\frac{4}{14} = \\frac{3}{7}\n",
    "$$\n",
    "\n",
    "#### Example\n",
    "\n",
    "In a math class are 17 boys and 13 girls. On a unit test, 4 boys and 5 girls made an `A` grade. If a student is chosen at random from the class, what is the probability of choosing a girl or an A-grade student?\n",
    "\n",
    "&rarr; The events $A = \\{ \\text{girl} \\}$ and $B = \\{ \\text{A-grade} \\}$ are **non-mutual exclusive** since a stundent can be a girl and an A-grade student, hence\n",
    "\n",
    "$$\n",
    "P(A \\cup B) = P(A) + P(B) - P(A \\cap B) = \\frac{13}{30} + \\frac{9}{30} - \\frac{5}{30} = \\frac{17}{30}\n",
    "$$\n",
    "\n"
   ]
  },
  {
   "cell_type": "markdown",
   "metadata": {},
   "source": [
    "### Complement\n",
    "\n",
    "Let $A$ be an event. The **complement** $A^C$ is the event that $A$ does **not** occur.\n",
    "\n",
    "Then\n",
    "\n",
    "$$\n",
    "\\begin{align}\n",
    "A \\cap A^C &= \\emptyset \\\\\n",
    "A \\cup A^C &= S \\\\[10pt]\n",
    "P(A^C) &= 1 − P(A)\n",
    "\\end{align}\n",
    "$$"
   ]
  },
  {
   "cell_type": "markdown",
   "metadata": {},
   "source": [
    "### Conditional Probability\n",
    "\n",
    "The **dependent** probability of an event $A$, **given** event $B$ has occured, is defined as\n",
    "\n",
    "$$P(A \\mid B) = \\frac{P(A \\cap B)}{P(B)}$$\n",
    "\n",
    "Only the \"portion\" of $A$ that is contained in $B$ could occur. Moreover, the original probability of $A \\cap B$ must be recalculated to reflect the fact that the **new sample space** is $B$.\n",
    "\n",
    "If two events $A$ and $B$ are **independent**, then\n",
    "\n",
    "$$\n",
    "\\begin{align}\n",
    "P(A \\mid B) = P(A) \\\\\n",
    "P(B \\mid A) = P(B)\n",
    "\\end{align}\n",
    "$$\n"
   ]
  },
  {
   "cell_type": "markdown",
   "metadata": {},
   "source": [
    "## Bayes Theorem\n",
    "\n",
    "See also [Bayes' Theorem with Lego](https://www.countbayesie.com/blog/2015/2/18/bayes-theorem-with-lego).\n",
    "\n",
    "Bayes theorem describes the probability of an event, based on **prior knowledge** that might be related to the event. For example, if the risk of health problems is known to increase with age, Bayes theorem allows the risk to an individual of a known age to be assessed more accurately than simply assuming that the individual is typical of the population as a whole.\n",
    "\n",
    "$$\n",
    "\\begin{aligned}\n",
    "P(A|B) &= \\frac{P(B|A) \\cdot P(A)}{P(B)} \\\\[10pt]\n",
    "\\text{Posterior} &= \\, \\frac{\\text{Likelihood} \\cdot \\text{Prior}}{\\text{Evidence}}\n",
    "\\end{aligned}\n",
    "$$\n",
    "\n",
    "with\n",
    "\n",
    "* the conditional probability $P(A|B)$ of event $A$ occurring given that $B$ is true. This is also called **posterior probability** (the revised or updated probability of an event occurring after taking into consideration new information).\n",
    "* the conditional probability $P(B|A)$ of event $B$ occurring given that $A$ is true. This is also called the **likelyhood** (how likely a particular population is to produce an observed sample).\n",
    "* the probability $P(A)$. This is also called the **prior probability** (the probability of an event before new evidence is introduced).\n",
    "* the probability $P(B)$. This is also called the **evidence** which **normalizes** our probabilities.\n",
    "\n",
    "If we are only interested in **proportions** of conditional probabilities, we can also write\n",
    "\n",
    "$$\n",
    "\\begin{aligned}\n",
    "P(A|B) &\\propto P(B|A) \\cdot P(A) \\\\[10pt]\n",
    "\\text{Posterior} &\\propto \\, \\text{Likelihood} \\cdot \\text{Prior}\n",
    "\\end{aligned}\n",
    "$$\n",
    "\n",
    "### Alternative Form\n",
    "\n",
    "Another form of Bayes theorem for **two competing statements** or hypotheses is\n",
    "\n",
    "$$\n",
    "P(A|B) = \\frac{P(B|A) \\cdot P(A)}{P(B|A) \\cdot P(A) + P(B|\\neg A) \\cdot P(\\neg A)}\n",
    "$$\n",
    "\n",
    "For proposition $A$ and evidence or background $B$,\n",
    "\n",
    "* $P(A)$ is the prior probability, the initial degree of belief in $A$.\n",
    "* $P(\\neg A)$ is the corresponding initial degree of belief in not $A$, that $A$ is false, where $P(\\neg A) = 1 - P(A)$\n",
    "* $P(B|A)$ is the conditional probability or likelihood, the degree of belief in $B$ given that proposition $A$ is true.\n",
    "* $P(B|\\neg A)$ is the conditional probability or likelihood, the degree of belief in $B$ given that proposition $A$ is false.\n",
    "* $P(A|B)$ is the posterior probability, the probability of $A$ after taking into account $B$."
   ]
  },
  {
   "cell_type": "markdown",
   "metadata": {},
   "source": [
    "#### Example\n",
    "\n",
    "Knowing a medical test having a **99% accuracy** (for true positives and true negatives). Already knowing that **1 out of 10000 people are sick**, what is the probability of an individual being sick, given that this individual got a positive test result?\n",
    "\n",
    "![false-positives](images/bayes-theorem.svg)\n",
    "\n",
    "What we knew before we knew the test is positive, is the **prior probability** $P(sick) = 0.0001$ and $P(healthy) = 0.9999$. \n",
    "\n",
    "As only the **positive tests** actually occured, we scale the likelyhood and the prior with the **evidence** $P(positive)$:\n",
    "\n",
    "$$\n",
    "\\begin{align}\n",
    "P(positive) &= P(sick) \\cdot P(positive|sick) + P(healthy) \\cdot P(positive|healthy) \\\\[10pt]\n",
    "&= P(sick) \\cdot \\text{Sensitivity} + (1 - P(sick)) \\cdot (1 - \\text{Specificity})\n",
    "\\end{align}\n",
    "$$"
   ]
  },
  {
   "cell_type": "code",
   "execution_count": 16,
   "metadata": {},
   "outputs": [
    {
     "name": "stdout",
     "output_type": "stream",
     "text": [
      "The probability of getting a positive test result P(positive) is: 0.0101\n"
     ]
    }
   ],
   "source": [
    "# P(sick)\n",
    "p_sick = 0.0001\n",
    "\n",
    "# P(~sick) or P(healthy)\n",
    "p_healthy = 1 - p_sick\n",
    "\n",
    "# Sensitivity or P(positive|sick)\n",
    "p_positive_sick = 0.99\n",
    "\n",
    "# Specificity or P(positive|healthy)\n",
    "p_positive_healthy = 1 - p_positive_sick\n",
    "\n",
    "# P(positive)\n",
    "p_positive = (p_sick * p_positive_sick) + (p_healthy * p_positive_healthy)\n",
    "\n",
    "print(f'The probability of getting a positive test result P(positive) is: {p_positive:.4f}')"
   ]
  },
  {
   "cell_type": "markdown",
   "metadata": {},
   "source": [
    "The **posterior probability**, what we infered after we knew that the test is positive, is:\n",
    "\n",
    "$$\n",
    "\\begin{align}\n",
    "P(sick|positive) &= \\frac{P(sick) \\cdot P(positive|sick)}{P(positive)} \\\\[10pt]\n",
    "&= \\frac{P(sick) \\cdot P(positive|sick)}{P(sick) \\cdot P(positive|sick) + P(healthy) \\cdot P(positive|healthy)} \\\\[10pt]\n",
    "&= \\frac{0.0001 \\cdot 0.99}{0.0001 \\cdot 0.99 + 0.9999 \\cdot 0.01} \\\\[10pt]\n",
    "&= 0.0098 \\approx 1 \\%\n",
    "\\end{align}\n",
    "$$"
   ]
  },
  {
   "cell_type": "code",
   "execution_count": 17,
   "metadata": {},
   "outputs": [
    {
     "name": "stdout",
     "output_type": "stream",
     "text": [
      "The posterior probability of being sick having a positive test result is: 0.0098\n",
      "The posterior probability of being healthy having a positive test result is: 0.9902\n"
     ]
    }
   ],
   "source": [
    "p_sick_positive = p_sick * p_positive_sick / p_positive\n",
    "print(f'The posterior probability of being sick having a positive test result is: {p_sick_positive:.4f}')\n",
    "\n",
    "p_healthy_positive = p_healthy * p_positive_healthy / p_positive\n",
    "print(f'The posterior probability of being healthy having a positive test result is: {p_healthy_positive:.4f}')"
   ]
  },
  {
   "cell_type": "code",
   "execution_count": 18,
   "metadata": {},
   "outputs": [
    {
     "name": "stdout",
     "output_type": "stream",
     "text": [
      "1.0000\n"
     ]
    }
   ],
   "source": [
    "print(f'{(p_sick_positive + p_healthy_positive):.4f}')"
   ]
  },
  {
   "cell_type": "markdown",
   "metadata": {},
   "source": [
    "# Random Variables\n",
    "\n",
    "A **random variable** $X$ (e.g. _length_) is a variable whose possible values $x_1, x_2, \\dots, x_n$ are numerical outcomes of a random phenomenon.\n",
    "\n",
    "A random variable is **discrete** if it can take only a countable number of distinct values, and it is **continuous** if it can take an infinite number of possible values.\n",
    "\n",
    "A **probability distribution** specifies the probabilities for each of the values that the random variable may take. \n",
    "\n",
    "A probability distribution of a **discrete** random variable is called a **probability mass function** and gives probabilities on the y-axis. \n",
    "\n",
    "A probability distribution for a **continuous** random variable is called a **probability density function** and it gives probability densities on the y-axis. In this case, probabilities are given by the surface area under the curve within a specified interval."
   ]
  },
  {
   "cell_type": "markdown",
   "metadata": {},
   "source": [
    "## The Mean and Variance of a Random Variable\n",
    "\n",
    "### Mean of a Random Variable\n",
    "\n",
    "The **mean** $\\mu_x$, or **expected value** $E(X)$, of a **descrete random variable**, is the sum of all values the variable may take times their probabilities:\n",
    "\n",
    "$$\\mu_x = E(X) = \\sum_i x_i \\, p_i = \\sum_i x_i \\, P(X = x_i)$$\n",
    "\n",
    "The mean of a **continuous random variable** is \n",
    "\n",
    "$$\\mu_x = E(x) = \\int_{\\infty}^{\\infty} x f(x) \\; \\mathrm{d}x$$\n",
    "\n",
    "If the random variable is changing by **multiplication** or addition of a **constant**, then the mean is changing accordingly:\n",
    "\n",
    "$$\\mu_{a + bx} = a + b \\mu_x$$ \n",
    "\n",
    "The mean of several random variables **added** together is the sum of their means, even if the different variables are not statistically independent:\n",
    "\n",
    "$$\\mu_{x + y} = \\mu_x + \\mu_y$$ \n",
    "\n",
    "### Variance of a Random Variable\n",
    "\n",
    "The **variance** $\\text{var}(X) = \\sigma^2 $ of a random variable $X$ is defined as the expected value of the squared deviation of $X$ from its mean $\\mu$:\n",
    "\n",
    "$$\n",
    "\\text{var}(X) = \\sigma^2 = E((X-\\mu)^2) = \\sum_i (x_i - \\mu)^2 \\, p_i = \\sum_i (x_i - \\mu)^2 \\, P(X = x_i)\n",
    "$$\n",
    "\n",
    "and the **standard deviation** $\\sigma$ of a random variable is \n",
    "\n",
    "$$\n",
    "\\sigma = \\sqrt{\\text{var}(X)}\n",
    "$$\n",
    "\n",
    "**Adding** or **substracting** a **constant** to a random variable doesn't change its variance:\n",
    "\n",
    "$$\\text{var}(a \\pm X) = \\text{var}(X)$$\n",
    "\n",
    "But **multiplication with a constant** leads to multiplication of the variance with the squared constant:\n",
    "\n",
    "$$\\text{var}(a \\cdot X) = a^2 \\; \\text{var}(X)$$\n",
    "\n",
    "and\n",
    "\n",
    "$$\\sigma(a \\cdot X) = a \\cdot \\sigma(X)$$\n",
    "\n",
    "For random variables $X$ and $Y$, the variance of the sum is the sum of the separate variances plus two times the covariance between $X$ and $Y$:\n",
    "\n",
    "$$\\text{var}(X \\pm Y) = \\text{var}(X) + \\text{var}(Y) \\pm 2 \\text{cov}(X, Y)$$\n",
    "\n",
    "If the random variables are **uncorrelated**, then the sum of the variances is:\n",
    "\n",
    "$$\\text{var}(X \\pm Y) = \\text{var}(X) + \\text{var}(Y)$$\n",
    "\n",
    "and\n",
    "\n",
    "$$\\sigma(X \\pm Y) < \\sigma(X) + \\sigma(Y)$$\n"
   ]
  },
  {
   "cell_type": "markdown",
   "metadata": {},
   "source": [
    "# Probability Distributions\n",
    "\n",
    "The **probability distribution** derives from **variance**.\n",
    "\n",
    "## The Normal Distribution\n",
    "\n",
    "The general form of a normal distributionits is the **probability density function** (pdf):\n",
    "\n",
    "$$\n",
    "f(x) = \\frac{1}{\\sigma {\\sqrt {2\\pi}}}  e^{-{\\frac{1}{2}} \\left( \\frac{x - \\mu}{\\sigma} \\right)^{2}}\n",
    "$$\n",
    "\n",
    "When a **random variable** $X$ is normally distributed with **mean** $\\mu$ and **standard deviation** $\\sigma$, one may write\n",
    "\n",
    "$$X \\sim \\mathcal{N}(\\mu, \\sigma ^{2})$$\n",
    "\n",
    "In statistics, the tilde $\\sim$ has the meaning \"*has the distribution (of)*\":\n",
    "\n",
    "For instance, $X \\sim \\mathcal{N}(0, 1)$ means \"*the stochastic (random) variable $X$ has the distribution $\\mathcal{N}(0, 1)$*.\n",
    "\n",
    "If $X$ and $Y$ are stochastic variables then $X \\sim Y$ means \"*$X$ has the same distribution as $Y$*\"."
   ]
  },
  {
   "cell_type": "code",
   "execution_count": 19,
   "metadata": {},
   "outputs": [
    {
     "data": {
      "image/png": "[encoded data removed]",
      "text/plain": [
       "<Figure size 1024x384 with 2 Axes>"
      ]
     },
     "metadata": {},
     "output_type": "display_data"
    }
   ],
   "source": [
    "from scipy.stats import norm                     # normal continuous random variable\n",
    "\n",
    "import numpy as np\n",
    "import matplotlib.pyplot as plt\n",
    "\n",
    "x = np.linspace(-3, 3)                           # range from [-3, 3] \n",
    "\n",
    "loc = 0                                          # mean\n",
    "scale = 1                                        # standard deviation\n",
    "\n",
    "pdf = norm.pdf(x, loc, scale)                    # Probability density function\n",
    "cdf = norm.cdf(x, loc, scale)                    # Cumulative distribution function\n",
    "\n",
    "plt.figure(figsize=(12.8, 4.8))\n",
    "\n",
    "plt.subplot(1,2,1) \n",
    "plt.grid()\n",
    "plt.hist(norm.rvs(size=1000), bins=20, density=True, alpha=0.2)\n",
    "plt.plot(x, pdf, linewidth=2, color=\"blue\", label=r'$\\mathcal{N}\\,(0, 1)$')\n",
    "plt.title('Probability Density Function')\n",
    "plt.ylabel('Probability Density')\n",
    "plt.legend(fontsize='x-large')\n",
    "\n",
    "plt.subplot(1,2,2) \n",
    "plt.grid()\n",
    "plt.title('Cumulative Distribution Function')\n",
    "plt.ylabel('Cumulative Propability')\n",
    "plt.plot(x, cdf, linewidth=2, color=\"red\");"
   ]
  },
  {
   "cell_type": "markdown",
   "metadata": {},
   "source": [
    "The area under the curve of the **probability density function** is $1$.\n",
    "\n",
    "In a **cumulative distribution**, the mean $\\mu$ is given at a probabiity of $0.5$, and $\\sigma$ determines the steepness of the curve at $0$.\n",
    "\n",
    "### Standard Normal Distribution\n",
    "\n",
    "The distribution $\\mathcal{N}\\,(0, 1)$ is called **standard normal distribution** or **z-distribution**."
   ]
  },
  {
   "cell_type": "markdown",
   "metadata": {},
   "source": [
    "### Probability Calculations\n",
    "\n",
    "If you know the **probability distribution** of a **random variable**, it's possible to calculate the probability that this variable falls within a certain **range**:\n",
    "\n",
    "$$\n",
    "\\begin{align}\n",
    "P(\\mu - \\sigma < x < \\mu + \\sigma) &= 0.68 \\\\\n",
    "P(\\mu - 2 \\sigma < x < \\mu + 2 \\sigma) &= 0.95 \\\\\n",
    "P(\\mu - 3 \\sigma < x < \\mu + 3 \\sigma) &= 0.997\n",
    "\\end{align}\n",
    "$$"
   ]
  },
  {
   "cell_type": "code",
   "execution_count": 20,
   "metadata": {},
   "outputs": [
    {
     "data": {
      "text/plain": [
       "0.15865525393145707"
      ]
     },
     "execution_count": 20,
     "metadata": {},
     "output_type": "execute_result"
    }
   ],
   "source": [
    "# Question: P(x > 1) for N(0,1) ?\n",
    "1 - norm.cdf(1, 0, 1)"
   ]
  },
  {
   "cell_type": "markdown",
   "metadata": {},
   "source": [
    "## Binomial Distribution\n",
    "\n",
    "The most important probability distribution for **discrete random variables** is the **binomial distribution**.\n",
    "\n",
    "The binomial distribution is the probability distribution of a sequence of experiments where each experiment produces a **binary** outcome: **success** with probability $p$ and **failure** with probability $(1 - p)$ and where each of the outcomes is **independent** of all the others. \n",
    "\n",
    "These specific experiments are also called **Bernoulli-Prozess**.\n",
    "\n",
    "The general form of a binomial distributionits is the **probability mass function** which gives the probability $P$ of getting a number $k$ of **successes** with $n$ **trials** $S_n$:\n",
    "\n",
    "$$\n",
    "\\begin{align}\n",
    "P(S_n = k) &= B(k | n, p) \\\\[9pt]\n",
    "&= \\frac{n!}{k! \\cdot (n - k)!} \\; p^{\\,k} (1 - p)^{\\,n - k} \\\\[9pt]\n",
    "&= \\binom{n}{k} \\; p^{\\,k} (1 - p)^{\\,n - k}\n",
    "\\end{align}\n",
    "$$\n",
    "\n",
    "with\n",
    "\n",
    "$$\n",
    "k \\in \\{0, 1, \\dots, n\\} \\quad \\text{and} \\quad 0 \\leq p \\leq 1\n",
    "$$\n",
    "\n",
    "and\n",
    "\n",
    "$$\n",
    "\\sum_{i=0}^{n}P(S_n = i) = 1\n",
    "$$\n",
    "\n",
    "When a **random variable** $X$ is binomial distributed with $N$ being the number of times we perform the experimen and $P$ being the probability of success, one may write\n",
    "\n",
    "$$X \\sim B\\,(n, p)$$\n",
    "\n",
    "The **mean** of a binomial distribution is\n",
    "\n",
    "$$\n",
    "\\mu = n \\cdot p\n",
    "$$\n",
    "\n",
    "The **standard deviation** of a binomial distribution is\n",
    "\n",
    "$$\n",
    "\\sigma = \\textstyle\\sqrt{n \\cdot p \\cdot (1 - p)}\n",
    "$$"
   ]
  },
  {
   "cell_type": "markdown",
   "metadata": {},
   "source": [
    "### Binomial Coefficient\n",
    "\n",
    "The **binomial coefficient** $\\binom{n}{k}$ gives the number of $k$-element **subsets** of a $n$-element **set** (without laying back and without considering the order).\n",
    "\n",
    "The binomial coefficient calculates as\n",
    "\n",
    "$$\n",
    "\\binom{n}{k} = \\frac{n!}{k! \\cdot (n - k)!}\n",
    "$$\n",
    "\n",
    "hence\n",
    "\n",
    "$$\n",
    "\\begin{align}\n",
    "\\binom{n}{0} &= \\binom{n}{n} = 1 \\\\\n",
    "\\binom{n}{1} &= n \\\\\n",
    "\\binom{n}{k} &= \\binom{n}{n - k}\n",
    "\\end{align}\n",
    "$$\n"
   ]
  },
  {
   "cell_type": "markdown",
   "metadata": {},
   "source": [
    "#### Example\n",
    "\n",
    "The number of **2-element subsets** of a **4-element set** is"
   ]
  },
  {
   "cell_type": "code",
   "execution_count": 21,
   "metadata": {},
   "outputs": [
    {
     "data": {
      "text/plain": [
       "6.0"
      ]
     },
     "execution_count": 21,
     "metadata": {},
     "output_type": "execute_result"
    }
   ],
   "source": [
    "from scipy.special import binom\n",
    "n = 4\n",
    "k = 2\n",
    "binom(n, k)"
   ]
  },
  {
   "cell_type": "code",
   "execution_count": 22,
   "metadata": {},
   "outputs": [
    {
     "name": "stdout",
     "output_type": "stream",
     "text": [
      "12 13 14 23 24 34 "
     ]
    }
   ],
   "source": [
    "from itertools import combinations\n",
    "\n",
    "for c in combinations('1234', k):\n",
    "    print(''.join(i for i in c), end=' ')"
   ]
  },
  {
   "cell_type": "code",
   "execution_count": 23,
   "metadata": {},
   "outputs": [
    {
     "name": "stdout",
     "output_type": "stream",
     "text": [
      "aaa aae aai aao aau aee aei aeo aeu aii aio aiu aoo aou auu eee eei eeo eeu eii eio eiu eoo eou euu iii iio iiu ioo iou iuu ooo oou ouu uuu "
     ]
    }
   ],
   "source": [
    "from itertools import combinations_with_replacement\n",
    "\n",
    "for c in combinations_with_replacement('aeiou', 3):\n",
    "    print(''.join(i for i in c), end=' ')"
   ]
  },
  {
   "cell_type": "code",
   "execution_count": 24,
   "metadata": {},
   "outputs": [
    {
     "data": {
      "text/plain": [
       "[1, 4, 6, 4, 1]"
      ]
     },
     "execution_count": 24,
     "metadata": {},
     "output_type": "execute_result"
    }
   ],
   "source": [
    "[int(binom(n, i)) for i in range(n + 1)]"
   ]
  },
  {
   "cell_type": "markdown",
   "metadata": {},
   "source": [
    "### Example\n",
    "\n",
    "\"*Given 10 flips of a fair coin, what is the probability of getting 6 heads?*\"\n",
    "\n",
    "Here, $n = 10$, $x = 6$ and, given a fair coin, the probability is $p = 0.5$. \n",
    "\n",
    "Then, the probability of getting $x = 6$ **heads** is:"
   ]
  },
  {
   "cell_type": "code",
   "execution_count": 25,
   "metadata": {},
   "outputs": [
    {
     "data": {
      "text/plain": [
       "0.2050781249999999"
      ]
     },
     "execution_count": 25,
     "metadata": {},
     "output_type": "execute_result"
    }
   ],
   "source": [
    "from scipy.stats import binom\n",
    "\n",
    "x = 6\n",
    "n = 10\n",
    "p = 0.5\n",
    "\n",
    "binom.pmf(x, n, p)"
   ]
  },
  {
   "cell_type": "markdown",
   "metadata": {},
   "source": [
    "The **mean** $\\mu$\n",
    "\n",
    "$$\n",
    "\\mu = \\sum_{x=0}^{n} x \\cdot B(x|n,p)\n",
    "$$\n",
    "\n",
    "is"
   ]
  },
  {
   "cell_type": "code",
   "execution_count": 26,
   "metadata": {},
   "outputs": [
    {
     "data": {
      "text/plain": [
       "5.0"
      ]
     },
     "execution_count": 26,
     "metadata": {},
     "output_type": "execute_result"
    }
   ],
   "source": [
    "round(np.sum([x * binom.pmf(x, n, p) for x in range(n + 1)]), 2)"
   ]
  },
  {
   "cell_type": "markdown",
   "metadata": {},
   "source": [
    "The **probability distribution** derives from **variance**. If both you and I flipped 10 coins, it’s pretty likely that we would get different results (you might get 5 heads and I get 7). This variance, a.k.a. uncertainty around the outcome, produces a **probability distribution**, which basically tells us what outcomes are relatively more likely (such as 5 heads) and which outcomes are relatively less likely (such as 10 heads)."
   ]
  },
  {
   "cell_type": "code",
   "execution_count": 27,
   "metadata": {},
   "outputs": [
    {
     "data": {
      "image/png": "[encoded data removed]",
      "text/plain": [
       "<Figure size 512x384 with 1 Axes>"
      ]
     },
     "metadata": {},
     "output_type": "display_data"
    }
   ],
   "source": [
    "from scipy.stats import binom\n",
    "import matplotlib.pyplot as plt\n",
    "\n",
    "x = range(0,11)\n",
    "n = 10\n",
    "p = 0.5\n",
    "\n",
    "pmf = binom.pmf(x, n, p)\n",
    "\n",
    "plt.xlabel(\"Number of Heads\")\n",
    "plt.ylabel(\"Probability\")\n",
    "plt.plot(x, pmf, 'o', label=r'$p=0.5$')\n",
    "plt.vlines(x, 0, pmf, lw=5, alpha=.3)\n",
    "plt.legend()\n",
    "plt.grid();"
   ]
  },
  {
   "cell_type": "code",
   "execution_count": 28,
   "metadata": {},
   "outputs": [
    {
     "data": {
      "text/html": [
       "<div>\n",
       "<style scoped>\n",
       "    .dataframe tbody tr th:only-of-type {\n",
       "        vertical-align: middle;\n",
       "    }\n",
       "\n",
       "    .dataframe tbody tr th {\n",
       "        vertical-align: top;\n",
       "    }\n",
       "\n",
       "    .dataframe thead th {\n",
       "        text-align: right;\n",
       "    }\n",
       "</style>\n",
       "<table border=\"1\" class=\"dataframe\">\n",
       "  <thead>\n",
       "    <tr style=\"text-align: right;\">\n",
       "      <th></th>\n",
       "      <th>0</th>\n",
       "      <th>1</th>\n",
       "      <th>2</th>\n",
       "      <th>3</th>\n",
       "      <th>4</th>\n",
       "      <th>5</th>\n",
       "      <th>6</th>\n",
       "      <th>7</th>\n",
       "      <th>8</th>\n",
       "      <th>9</th>\n",
       "      <th>10</th>\n",
       "    </tr>\n",
       "  </thead>\n",
       "  <tbody>\n",
       "    <tr>\n",
       "      <th>0</th>\n",
       "      <td>0.0</td>\n",
       "      <td>0.01</td>\n",
       "      <td>0.04</td>\n",
       "      <td>0.12</td>\n",
       "      <td>0.21</td>\n",
       "      <td>0.25</td>\n",
       "      <td>0.21</td>\n",
       "      <td>0.12</td>\n",
       "      <td>0.04</td>\n",
       "      <td>0.01</td>\n",
       "      <td>0.0</td>\n",
       "    </tr>\n",
       "  </tbody>\n",
       "</table>\n",
       "</div>"
      ],
      "text/plain": [
       "    0     1     2     3     4     5     6     7     8     9    10\n",
       "0  0.0  0.01  0.04  0.12  0.21  0.25  0.21  0.12  0.04  0.01  0.0"
      ]
     },
     "execution_count": 28,
     "metadata": {},
     "output_type": "execute_result"
    }
   ],
   "source": [
    "import pandas as pd\n",
    "\n",
    "df_p = pd.DataFrame(pmf)\n",
    "df_p.T.round(2)"
   ]
  },
  {
   "cell_type": "code",
   "execution_count": 29,
   "metadata": {},
   "outputs": [
    {
     "name": "stdout",
     "output_type": "stream",
     "text": [
      "5.0\n",
      "1.58\n"
     ]
    }
   ],
   "source": [
    "mean = binom.mean(n, p) # Mean of the distribution\n",
    "std = binom.std(n, p)   # Standard deviation of the distribution\n",
    "\n",
    "print(mean)\n",
    "print(round(std, 2))"
   ]
  },
  {
   "cell_type": "markdown",
   "metadata": {},
   "source": [
    "Given an unfair coin, e.g. with $p = 0.3$, we get this non-symetric distribution:"
   ]
  },
  {
   "cell_type": "code",
   "execution_count": 30,
   "metadata": {},
   "outputs": [
    {
     "data": {
      "image/png": "[encoded data removed]",
      "text/plain": [
       "<Figure size 512x384 with 1 Axes>"
      ]
     },
     "metadata": {},
     "output_type": "display_data"
    }
   ],
   "source": [
    "x = range(0,11)\n",
    "n = 10\n",
    "p = 0.2    # unfair coin\n",
    "\n",
    "plt.xlabel(\"Number of Heads\")\n",
    "plt.ylabel(\"Probability\")\n",
    "plt.plot(x, binom.pmf(x, n, p), 'o', label=r'$p=0.3$')\n",
    "plt.vlines(x, 0, binom.pmf(x, n, p), lw=5, alpha=.3)\n",
    "plt.legend()\n",
    "plt.grid();"
   ]
  },
  {
   "cell_type": "code",
   "execution_count": 31,
   "metadata": {},
   "outputs": [
    {
     "name": "stdout",
     "output_type": "stream",
     "text": [
      "2.0\n",
      "1.26\n"
     ]
    }
   ],
   "source": [
    "mean = binom.mean(n, p) # Mean of the distribution\n",
    "std = binom.std(n, p)   # Standard deviation of the distribution\n",
    "\n",
    "print(mean)\n",
    "print(round(std, 2))"
   ]
  },
  {
   "cell_type": "markdown",
   "metadata": {},
   "source": [
    "In order to **simulate** the result, we could generate that using a binomially distributed random variable with `np.random.binomial(n, p)`:"
   ]
  },
  {
   "cell_type": "code",
   "execution_count": 32,
   "metadata": {},
   "outputs": [
    {
     "name": "stdout",
     "output_type": "stream",
     "text": [
      "Given 10 flips of a fair coin, the probability of getting 6 heads is: 0.2108\n"
     ]
    }
   ],
   "source": [
    "import numpy as np\n",
    "\n",
    "runs = 10000\n",
    "x = 6\n",
    "n = 10\n",
    "p = 0.5\n",
    "\n",
    "prob = sum([1 for i in np.random.binomial(n, p, size=runs) if i == x]) / runs\n",
    "print(f'Given {n} flips of a fair coin, the probability of getting {x} heads is: {str(prob)}')"
   ]
  },
  {
   "cell_type": "markdown",
   "metadata": {},
   "source": [
    "### Real World Example\n",
    "\n",
    "This example is from [Fun with the Binomial Distribution](https://towardsdatascience.com/fun-with-the-binomial-distribution-96a5ecabf65b).\n",
    "\n",
    "Given a call-center where each employee does $n = 50$ calls a day and converts $p = 4\\%$ of these calls into success (hence **binominal distribution**). Each successful call yields a revenue of 100€. The call center has 100 employees and each employee earns a wage of 200€ / day.\n",
    "\n",
    "Questions: \n",
    "\n",
    "* *Given $n$ and $p$, how high is the total profit per day?* and \n",
    "* *How can $n$ and $p$ varied in order to increase the profit?*"
   ]
  },
  {
   "cell_type": "code",
   "execution_count": 33,
   "metadata": {},
   "outputs": [
    {
     "name": "stdout",
     "output_type": "stream",
     "text": [
      "total profit for 4.0% is 0€\n"
     ]
    }
   ],
   "source": [
    "np.random.seed(1)\n",
    "\n",
    "n = 50\n",
    "p = 0.04\n",
    "revenue = 100\n",
    "employees = 100\n",
    "wage = 200\n",
    "\n",
    "conversions = np.random.binomial(n, p, size=employees)  # conversions per day of the call-center\n",
    "\n",
    "print(f'total profit for {p * 100}% is {np.sum(conversions) * revenue - employees * wage}€')"
   ]
  },
  {
   "cell_type": "code",
   "execution_count": 34,
   "metadata": {},
   "outputs": [
    {
     "data": {
      "image/png": "[encoded data removed]",
      "text/plain": [
       "<Figure size 512x384 with 1 Axes>"
      ]
     },
     "metadata": {},
     "output_type": "display_data"
    }
   ],
   "source": [
    "import matplotlib.pyplot as plt\n",
    "\n",
    "mean = np.mean(conversions)\n",
    "std = np.std(conversions)\n",
    "\n",
    "bins = np.arange(0, conversions.max() + 1.5) - 0.5\n",
    "plt.title('Distribution of conversions of a day')\n",
    "plt.xlabel('Conversions')\n",
    "plt.hist(conversions, density=True, bins=bins, edgecolor='k', alpha=0.5)\n",
    "plt.axvline(mean, color='red', lw=3, alpha=0.5);"
   ]
  },
  {
   "cell_type": "markdown",
   "metadata": {},
   "source": [
    "Summing up this **(i.i.d.; independent and identically distributed) random variable** for 1000 days yields, due to the **central limit theorem** (CLT; German: _Zentraler Grenzwertsatz_), to a normal distribution.\n",
    "\n",
    "For $p = 4\\%$ and $p = 5\\%$ we get:"
   ]
  },
  {
   "cell_type": "code",
   "execution_count": 35,
   "metadata": {},
   "outputs": [
    {
     "data": {
      "image/png": "[encoded data removed]",
      "text/plain": [
       "<Figure size 512x384 with 1 Axes>"
      ]
     },
     "metadata": {},
     "output_type": "display_data"
    }
   ],
   "source": [
    "def profits(n, p):\n",
    "    return [np.sum(np.random.binomial(n, p, size=employees)) * revenue - employees * wage for _ in range(1000)]\n",
    "\n",
    "profits_4 = profits(50, 0.04)\n",
    "plt.hist(profits_4, bins=40, alpha=0.5, label=r'$p = 0.04$')\n",
    "plt.axvline(np.mean(profits_4), lw=3, alpha=0.8);\n",
    "\n",
    "profits_5 = profits(50, 0.05)\n",
    "plt.hist(profits_5, bins=40, alpha=0.5, label=r'$p = 0.05$')\n",
    "plt.axvline(np.mean(profits_5), color='#ff7f0e', lw=3, alpha=0.8);\n",
    "\n",
    "plt.xlabel('profit / €')\n",
    "plt.legend();"
   ]
  },
  {
   "cell_type": "code",
   "execution_count": 36,
   "metadata": {},
   "outputs": [
    {
     "name": "stdout",
     "output_type": "stream",
     "text": [
      "total profit for 5.0% is 6300€\n"
     ]
    }
   ],
   "source": [
    "n = 50\n",
    "p = 0.05\n",
    "revenue = 100\n",
    "employees = 100\n",
    "wage = 200\n",
    "\n",
    "conversions = np.random.binomial(n, p, size=employees)  # conversions per day of the call-center\n",
    "\n",
    "print(f'total profit for {p * 100}% is {np.sum(conversions) * revenue - employees * wage}€')"
   ]
  },
  {
   "cell_type": "markdown",
   "metadata": {},
   "source": [
    "## Poisson Distribution\n",
    "\n",
    "The Poisson distribution is best understood as a the **limit** of a **sequence of Binomial distributions**."
   ]
  },
  {
   "cell_type": "markdown",
   "metadata": {},
   "source": [
    "# Inferential Statistics"
   ]
  },
  {
   "cell_type": "markdown",
   "metadata": {},
   "source": [
    "### Descriptive Statistics vs. Inferential Statistics\n",
    "\n",
    "Given a **sample** (or subset) from a **population**, you can measure a couple of variables and do all kinds of computations which are called **statistics**:\n",
    "\n",
    "* You can do **univariate analyses** and compute **modes**, **means**, and **standard deviations**. \n",
    "* You can do **bivariate analyses** and compute **Pearson’s r correlation**, **coefficients** or do **regression** analyses.\n",
    "\n",
    "In general, the methods for summarizing sample data are called **descriptive statistics** (German: _Beschreibende Statistik_).\n",
    "\n",
    "Typically we are not interested in summaries of a specific sample, but in the entire underlying population. **Inferential statistics** (German: _mathematische Statistik_) enables to draw conclusions about the **population parameters** based on an analysis of a **sample**.\n",
    "\n",
    "**Statistics** are displayed by **Roman letters**, for example $\\bar{x}$ is the **mean** in a sample and $s$ is the **standard deviation** in a sample.\n",
    "\n",
    "**Parameters** are displayed by **Greek letters**, for example $\\mu$ stands for the **mean** in a population and $\\sigma$ for the **standard deviation** in a population.\n",
    "\n",
    "Inferential statistics and probability theory are also called **Stochastics**."
   ]
  },
  {
   "cell_type": "markdown",
   "metadata": {},
   "source": [
    "### Sampling Distributions\n",
    "\n",
    "A sample is a **subset of a population**. A representative sample should have no **bias**.\n",
    "\n",
    "The distribution that you get if you draw an **infinite number** of samples from your population and compute the mean of all the\n",
    "collected sample means is calles the **sampling distribution** of the **sample mean**. This distribution is in fact a theoretical distribution.\n",
    "\n",
    "This differs from the **sample distribution**, which is the distribution of scores in the **one sample**.\n",
    "\n",
    "The **mean of the sampling distribution** $\\mu_{\\bar{x}}$ is equal to the **mean of the population distribution** $\\mu$:\n",
    "\n",
    "$$\n",
    "\\mu_{\\bar{x}} = \\mu\n",
    "$$\n",
    "\n",
    "The **standard deviation** of the **sampling distribution** is also called the **standard error** and is:\n",
    "\n",
    "$$\n",
    "\\sigma_{\\bar{x}} = \\frac{\\sigma}{\\sqrt{n}}\n",
    "$$"
   ]
  },
  {
   "cell_type": "markdown",
   "metadata": {},
   "source": [
    "### The Sample Proportion\n",
    "\n",
    "Often sampling is done in order to estimate the **proportion of a population** that has a specific characteristic (for example the percentage of people making a purchase when entering a store). \n",
    "\n",
    "The **population proportion** is denoted by $p$, the **sample proportion** is denoted $\\hat{p}$. \n",
    "\n",
    "The **sample proportion** is a **random variable** denoted by $\\hat{P}$. Given a random samples of size $n$ drawn from a population having the proportion $p$ for the characteristic of interest. \n",
    "\n",
    "Then the **mean** $\\mu_{\\hat{P}}$ of the **sample proportion** $\\hat{P}$ is\n",
    "\n",
    "$$\n",
    "\\mu_{\\hat{P}} = p\n",
    "$$\n",
    "\n",
    "and the **standard deviation** $\\sigma_{\\hat{P}}$ is\n",
    "\n",
    "$$\n",
    "\\sigma_{\\hat{P}} = \\sqrt{\\frac{p \\, (1 - p)}{n}}\n",
    "$$\n",
    "\n",
    "For **large samples**, the **sample proportion** is approximately **normally distributed**, with mean $\\mu_{\\hat{P}}$ and standard deviation $\\sigma_{\\hat{P}}$."
   ]
  },
  {
   "cell_type": "markdown",
   "metadata": {},
   "source": [
    "### Central Limit Theorem (CLT)\n",
    "\n",
    "The central limit theorem (German: _Zentraler Grenzwertsatz_) says that, provided that the sample size is sufficiently large, the sampling\n",
    "distribution of the sample mean $\\bar{x}$ has an **approximately normal distribution**. Even if the variable of interest is **not** normally distributed in the population.\n",
    "\n",
    "The **mean of the sampling distribution** $\\mu_{\\bar{x}}$ is equal to the **mean of the population distribution** $\\mu$:\n",
    "\n",
    "$$\n",
    "\\mu_{\\bar{x}} = \\mu\n",
    "$$\n",
    "\n",
    "The **standard deviation of the sampling distribution** $\\sigma_{\\bar{x}}$ is\n",
    "\n",
    "$$\n",
    "\\sigma_{\\bar{x}} = \\frac{\\sigma}{\\sqrt n}\n",
    "$$\n",
    "\n",
    "with the **standard deviation in the population** $\\sigma$ and the **sample size** $n$.\n",
    "\n",
    "This means: the larger the variability in the population, the larger the variability of the sample means. And that a larger\n",
    "sample size $n$ leads to a lower standard deviation of the sampling distribution."
   ]
  },
  {
   "cell_type": "code",
   "execution_count": 37,
   "metadata": {},
   "outputs": [
    {
     "data": {
      "image/png": "[encoded data removed]",
      "text/plain": [
       "<Figure size 1024x384 with 2 Axes>"
      ]
     },
     "metadata": {},
     "output_type": "display_data"
    }
   ],
   "source": [
    "import numpy as np\n",
    "import matplotlib.pyplot as plt\n",
    "\n",
    "n = 20\n",
    "p = 0.3\n",
    "rsd = np.random.binomial(n, p, size=200)                                      # random (binominal) right-skewed data\n",
    "sid = [np.mean(np.random.binomial(n, p, size=200)) for _ in range(20000)]     # sampling distribution for 20000 samples \n",
    "\n",
    "plt.figure(figsize=(12.8, 4.8))\n",
    "plt.subplot(1,2,1) \n",
    "plt.title('Binomial Distribution')\n",
    "plt.hist(rsd, density=True, bins=np.arange(0, rsd.max() + 1.5) - 0.5, alpha=0.5)\n",
    "plt.xlim(-1, n + 1)\n",
    "plt.subplot(1,2,2) \n",
    "plt.title('Sampling Distribution')\n",
    "plt.hist(sid, density=True, bins=50, alpha=0.5)\n",
    "plt.show()"
   ]
  },
  {
   "cell_type": "markdown",
   "metadata": {},
   "source": [
    "## Confidence Interval\n",
    "\n",
    "The **95% confidence interval**, tells us that we can be 95% confident that our point estimate, which could be a **mean** or a **proportion**, falls within our confidence interval. \n",
    "\n",
    "Or in other words, it tells us that if we would draw an infinite number of samples we would compute a 95% confidence interval with a similar margin of error. In 95% of the cases, the population value would fall within this confidence interval."
   ]
  },
  {
   "cell_type": "markdown",
   "metadata": {},
   "source": [
    "### Constructing a Confidence Interval\n",
    "\n",
    "1. Decide which confidence level you want to use. For instance, do you settle for the **regular 95% level**? Or do you want to be **more confident and less precise**? Or **more precise and less confident**? \n",
    "\n",
    "2. Decide if you're dealing with a **proportion** or a **mean**. If you're interested in a **proportion**, you work with the **z-distribution**, and if you're interested in a **mean**, you have to use the **t-distribution**. If you're interested in a **mean**, you should also compute the **degrees of freedom** which is $n - 1$. \n",
    "\n",
    "3. Compute the **endpoints** of the confidence interval. \n",
    "\n",
    "4. Interpret the results substantively."
   ]
  },
  {
   "cell_type": "markdown",
   "metadata": {},
   "source": [
    "### Confidence Interval for Proportion\n",
    "\n",
    "If you draw an **infinite number** of samples with $n = 100$ from a **population**, and for every sample we would compute **confidence intervals**\n",
    "\n",
    "$$\n",
    "\\text{CI}_p = p \\, \\pm \\, z_{95\\%} \\sqrt{\\frac{p \\, (1 - p)}{n}}\n",
    "$$\n",
    "\n",
    "with\n",
    "\n",
    "$$\n",
    "\\begin{align}\n",
    "z_{90\\%} &= 1.645 \\\\\n",
    "z_{95\\%} &= 1.96 \\\\\n",
    "z_{99\\%} &= 2.58\n",
    "\\end{align}\n",
    "$$\n",
    "\n",
    "then in 95% of the cases the **population** value would fall within the confidence interval. Or, in other words, you are **95% confident** that the **population proportion** falls between these confidence intervals.\n",
    "\n",
    "The more confident we are that we draw a correct inference, the larger of margin of error. That means, that we have to compromise between **confidence** and **precision**."
   ]
  },
  {
   "cell_type": "markdown",
   "metadata": {},
   "source": [
    "### Confidence Interval of Population Mean\n",
    "\n",
    "The confidence interval to estimate a **population mean** is\n",
    "\n",
    "$$\n",
    "\\text{CI}_{\\bar{x}} = \\bar{x} \\, \\pm \\, t_{95\\%} \\frac{s}{\\sqrt n}\n",
    "$$\n",
    "\n",
    "with the **degree of freedom** $\\text{df} = n - 1$, and the **t-scores**\n",
    "\n",
    "$$\n",
    "\\begin{align}\n",
    "t_{90\\%} &= 1.6525 \\\\\n",
    "t_{95\\%} &= 1.9720\n",
    "\\end{align}\n",
    "$$\n",
    "\n",
    "When comparing means of continuous variables with **small samples**, we use a **t-distribution** instead of the **normal distribution**."
   ]
  },
  {
   "cell_type": "markdown",
   "metadata": {},
   "source": [
    "### Choosing the Sample Size\n",
    "\n",
    "The choice for your **sample size** depends on\n",
    "\n",
    "1. how precise you would like to be: how large do you allow your **margin of error** $m$? The smaller you want the margin of error to be, the larger your sample size should be.\n",
    "\n",
    "2. The sample size depends on the **confidence level** you want to use: with the larger confidence level, you also need a larger sample size.\n",
    "\n",
    "3. The sample size depends on the **variability** in your data: the larger the standard deviation of your variable is, the larger your sample size should be.\n",
    "\n",
    "#### Sample Size for Means\n",
    "\n",
    "The **size** $n$ of your **sample** is\n",
    "\n",
    "$$\n",
    "n = \\frac{\\sigma^2 \\cdot z^2}{m^2}\n",
    "$$\n",
    "\n",
    "As you don't know your **sample standard deviation** you need to estimate this value by means of an **educated guess**.\n",
    "\n",
    "#### Sample Size for Proportions\n",
    "\n",
    "The **size** $n$ of your **sample** is\n",
    "\n",
    "$$\n",
    "n = \\frac{p \\, (1 - p) \\cdot z^2}{m^2}\n",
    "$$"
   ]
  },
  {
   "cell_type": "markdown",
   "metadata": {},
   "source": [
    "## Correlation and Regression"
   ]
  },
  {
   "cell_type": "code",
   "execution_count": 38,
   "metadata": {},
   "outputs": [
    {
     "data": {
      "image/png": "[encoded data removed]",
      "text/plain": [
       "<Figure size 512x384 with 1 Axes>"
      ]
     },
     "metadata": {},
     "output_type": "display_data"
    }
   ],
   "source": [
    "plt.scatter(df['height'], df['weight'])\n",
    "plt.xlabel('height')\n",
    "plt.ylabel('weight');"
   ]
  },
  {
   "cell_type": "code",
   "execution_count": 39,
   "metadata": {},
   "outputs": [
    {
     "data": {
      "text/html": [
       "<div>\n",
       "<style scoped>\n",
       "    .dataframe tbody tr th:only-of-type {\n",
       "        vertical-align: middle;\n",
       "    }\n",
       "\n",
       "    .dataframe tbody tr th {\n",
       "        vertical-align: top;\n",
       "    }\n",
       "\n",
       "    .dataframe thead th {\n",
       "        text-align: right;\n",
       "    }\n",
       "</style>\n",
       "<table border=\"1\" class=\"dataframe\">\n",
       "  <thead>\n",
       "    <tr style=\"text-align: right;\">\n",
       "      <th></th>\n",
       "      <th>height</th>\n",
       "      <th>weight</th>\n",
       "      <th>age</th>\n",
       "      <th>gender</th>\n",
       "      <th>height_bins</th>\n",
       "      <th>weight_bins</th>\n",
       "    </tr>\n",
       "  </thead>\n",
       "  <tbody>\n",
       "    <tr>\n",
       "      <th>0</th>\n",
       "      <td>151.9</td>\n",
       "      <td>72.3</td>\n",
       "      <td>23</td>\n",
       "      <td>M</td>\n",
       "      <td>(149, 159]</td>\n",
       "      <td>(69, 79]</td>\n",
       "    </tr>\n",
       "    <tr>\n",
       "      <th>1</th>\n",
       "      <td>156.5</td>\n",
       "      <td>82.4</td>\n",
       "      <td>30</td>\n",
       "      <td>M</td>\n",
       "      <td>(149, 159]</td>\n",
       "      <td>(79, 89]</td>\n",
       "    </tr>\n",
       "    <tr>\n",
       "      <th>2</th>\n",
       "      <td>153.3</td>\n",
       "      <td>68.5</td>\n",
       "      <td>21</td>\n",
       "      <td>M</td>\n",
       "      <td>(149, 159]</td>\n",
       "      <td>(59, 69]</td>\n",
       "    </tr>\n",
       "    <tr>\n",
       "      <th>3</th>\n",
       "      <td>160.9</td>\n",
       "      <td>77.4</td>\n",
       "      <td>30</td>\n",
       "      <td>F</td>\n",
       "      <td>(159, 169]</td>\n",
       "      <td>(69, 79]</td>\n",
       "    </tr>\n",
       "    <tr>\n",
       "      <th>4</th>\n",
       "      <td>170.3</td>\n",
       "      <td>86.7</td>\n",
       "      <td>29</td>\n",
       "      <td>F</td>\n",
       "      <td>(169, 179]</td>\n",
       "      <td>(79, 89]</td>\n",
       "    </tr>\n",
       "    <tr>\n",
       "      <th>...</th>\n",
       "      <td>...</td>\n",
       "      <td>...</td>\n",
       "      <td>...</td>\n",
       "      <td>...</td>\n",
       "      <td>...</td>\n",
       "      <td>...</td>\n",
       "    </tr>\n",
       "    <tr>\n",
       "      <th>95</th>\n",
       "      <td>182.3</td>\n",
       "      <td>95.5</td>\n",
       "      <td>22</td>\n",
       "      <td>F</td>\n",
       "      <td>(179, 189]</td>\n",
       "      <td>(89, 99]</td>\n",
       "    </tr>\n",
       "    <tr>\n",
       "      <th>96</th>\n",
       "      <td>172.4</td>\n",
       "      <td>82.7</td>\n",
       "      <td>29</td>\n",
       "      <td>M</td>\n",
       "      <td>(169, 179]</td>\n",
       "      <td>(79, 89]</td>\n",
       "    </tr>\n",
       "    <tr>\n",
       "      <th>97</th>\n",
       "      <td>165.1</td>\n",
       "      <td>80.6</td>\n",
       "      <td>28</td>\n",
       "      <td>M</td>\n",
       "      <td>(159, 169]</td>\n",
       "      <td>(79, 89]</td>\n",
       "    </tr>\n",
       "    <tr>\n",
       "      <th>98</th>\n",
       "      <td>161.0</td>\n",
       "      <td>80.9</td>\n",
       "      <td>21</td>\n",
       "      <td>F</td>\n",
       "      <td>(159, 169]</td>\n",
       "      <td>(79, 89]</td>\n",
       "    </tr>\n",
       "    <tr>\n",
       "      <th>99</th>\n",
       "      <td>146.4</td>\n",
       "      <td>71.3</td>\n",
       "      <td>24</td>\n",
       "      <td>M</td>\n",
       "      <td>(139, 149]</td>\n",
       "      <td>(69, 79]</td>\n",
       "    </tr>\n",
       "  </tbody>\n",
       "</table>\n",
       "<p>100 rows × 6 columns</p>\n",
       "</div>"
      ],
      "text/plain": [
       "    height  weight  age gender height_bins weight_bins\n",
       "0    151.9    72.3   23      M  (149, 159]    (69, 79]\n",
       "1    156.5    82.4   30      M  (149, 159]    (79, 89]\n",
       "2    153.3    68.5   21      M  (149, 159]    (59, 69]\n",
       "3    160.9    77.4   30      F  (159, 169]    (69, 79]\n",
       "4    170.3    86.7   29      F  (169, 179]    (79, 89]\n",
       "..     ...     ...  ...    ...         ...         ...\n",
       "95   182.3    95.5   22      F  (179, 189]    (89, 99]\n",
       "96   172.4    82.7   29      M  (169, 179]    (79, 89]\n",
       "97   165.1    80.6   28      M  (159, 169]    (79, 89]\n",
       "98   161.0    80.9   21      F  (159, 169]    (79, 89]\n",
       "99   146.4    71.3   24      M  (139, 149]    (69, 79]\n",
       "\n",
       "[100 rows x 6 columns]"
      ]
     },
     "execution_count": 39,
     "metadata": {},
     "output_type": "execute_result"
    }
   ],
   "source": [
    "df"
   ]
  },
  {
   "cell_type": "markdown",
   "metadata": {},
   "source": [
    "### Covariance\n",
    "\n",
    "The **sample covariance** is a measure of the joint variability of **two random variables** $x$ and $y$:\n",
    "\n",
    "$$\n",
    "\\text{cov}(X,Y) = \\frac{1}{n-1} \\sum{(x-\\hat{x})(y-\\hat{y})}\n",
    "$$\n",
    "\n",
    "The covariance is **positive** if the variables tend to show **similar linear behavior**. The covariance is **negative** if the variables tend to show **opposite linear behavior**. The covaraince is **zero** if there is **no linear relationship** between the variables.\n",
    "\n",
    "The covariance is **not normalized** and depend on the magnitudes of the variables, hence the magnitude is not easy to interpret."
   ]
  },
  {
   "cell_type": "markdown",
   "metadata": {},
   "source": [
    "### Covariance Matrix\n",
    "\n",
    "The **diagonal** of the covariance matrix provides the **variance** $\\text{var}(X)$ of each individual variables covariance itself. The **off-diagonal** entries in the matrix provide the **covariance** $\\text{cov}(X, Y)$ between each variable pair.\n",
    "\n",
    "A covariance matrix is **symmetric** ($A = A^{T}$) and **positive semidefinite** ($A \\geq 0$: all eigenvalues are non negative).\n"
   ]
  },
  {
   "cell_type": "code",
   "execution_count": 40,
   "metadata": {},
   "outputs": [
    {
     "data": {
      "text/html": [
       "<div>\n",
       "<style scoped>\n",
       "    .dataframe tbody tr th:only-of-type {\n",
       "        vertical-align: middle;\n",
       "    }\n",
       "\n",
       "    .dataframe tbody tr th {\n",
       "        vertical-align: top;\n",
       "    }\n",
       "\n",
       "    .dataframe thead th {\n",
       "        text-align: right;\n",
       "    }\n",
       "</style>\n",
       "<table border=\"1\" class=\"dataframe\">\n",
       "  <thead>\n",
       "    <tr style=\"text-align: right;\">\n",
       "      <th></th>\n",
       "      <th>height</th>\n",
       "      <th>weight</th>\n",
       "    </tr>\n",
       "  </thead>\n",
       "  <tbody>\n",
       "    <tr>\n",
       "      <th>height</th>\n",
       "      <td>104.652181</td>\n",
       "      <td>76.226474</td>\n",
       "    </tr>\n",
       "    <tr>\n",
       "      <th>weight</th>\n",
       "      <td>76.226474</td>\n",
       "      <td>68.293595</td>\n",
       "    </tr>\n",
       "  </tbody>\n",
       "</table>\n",
       "</div>"
      ],
      "text/plain": [
       "            height     weight\n",
       "height  104.652181  76.226474\n",
       "weight   76.226474  68.293595"
      ]
     },
     "execution_count": 40,
     "metadata": {},
     "output_type": "execute_result"
    }
   ],
   "source": [
    "covMatrix = df[['height', 'weight']].cov()\n",
    "covMatrix"
   ]
  },
  {
   "cell_type": "markdown",
   "metadata": {},
   "source": [
    "### Correlation\n",
    "\n",
    "The correlation coefficient is the **normalized** version of the covariance and shows by its magnitude the strength of the linear relation.\n",
    "\n"
   ]
  },
  {
   "cell_type": "code",
   "execution_count": 41,
   "metadata": {},
   "outputs": [
    {
     "data": {
      "text/html": [
       "<div>\n",
       "<style scoped>\n",
       "    .dataframe tbody tr th:only-of-type {\n",
       "        vertical-align: middle;\n",
       "    }\n",
       "\n",
       "    .dataframe tbody tr th {\n",
       "        vertical-align: top;\n",
       "    }\n",
       "\n",
       "    .dataframe thead th {\n",
       "        text-align: right;\n",
       "    }\n",
       "</style>\n",
       "<table border=\"1\" class=\"dataframe\">\n",
       "  <thead>\n",
       "    <tr style=\"text-align: right;\">\n",
       "      <th></th>\n",
       "      <th>height</th>\n",
       "      <th>weight</th>\n",
       "    </tr>\n",
       "  </thead>\n",
       "  <tbody>\n",
       "    <tr>\n",
       "      <th>height</th>\n",
       "      <td>1.000000</td>\n",
       "      <td>0.901658</td>\n",
       "    </tr>\n",
       "    <tr>\n",
       "      <th>weight</th>\n",
       "      <td>0.901658</td>\n",
       "      <td>1.000000</td>\n",
       "    </tr>\n",
       "  </tbody>\n",
       "</table>\n",
       "</div>"
      ],
      "text/plain": [
       "          height    weight\n",
       "height  1.000000  0.901658\n",
       "weight  0.901658  1.000000"
      ]
     },
     "execution_count": 41,
     "metadata": {},
     "output_type": "execute_result"
    }
   ],
   "source": [
    "corrMatrix = df[['height', 'weight']].corr(method='pearson')\n",
    "corrMatrix"
   ]
  },
  {
   "cell_type": "code",
   "execution_count": 42,
   "metadata": {},
   "outputs": [
    {
     "data": {
      "image/png": "[encoded data removed]",
      "text/plain": [
       "<Figure size 512x384 with 2 Axes>"
      ]
     },
     "metadata": {},
     "output_type": "display_data"
    }
   ],
   "source": [
    "sns.heatmap(corrMatrix, annot=True);"
   ]
  },
  {
   "cell_type": "markdown",
   "metadata": {},
   "source": [
    "### Pearson's r value\n",
    "\n",
    "Pearson's $r$ value, or **correlation** value, quantifies the **strength of a relationship**.\n",
    "\n",
    "$$\n",
    "r = \\frac{\\text{cov}(X, Y)}{\\sqrt{\\text{var}(X)} \\sqrt{\\text{var}(Y)}} =  \\frac{\\text{cov}(X, Y)}{\\sigma_X \\cdot \\sigma_Y}\n",
    "$$\n",
    "\n",
    "$r = 1$ and $r = -1$ means that the values are **strongly correlated** with a positive or naegative slope. \n",
    "\n",
    "$r = 0$ mean that the values are **not correlated** at all.\n",
    "\n",
    "The correlation value is **scale invariant**."
   ]
  },
  {
   "cell_type": "code",
   "execution_count": 43,
   "metadata": {},
   "outputs": [
    {
     "data": {
      "text/html": [
       "<div>\n",
       "<style scoped>\n",
       "    .dataframe tbody tr th:only-of-type {\n",
       "        vertical-align: middle;\n",
       "    }\n",
       "\n",
       "    .dataframe tbody tr th {\n",
       "        vertical-align: top;\n",
       "    }\n",
       "\n",
       "    .dataframe thead th {\n",
       "        text-align: right;\n",
       "    }\n",
       "</style>\n",
       "<table border=\"1\" class=\"dataframe\">\n",
       "  <thead>\n",
       "    <tr style=\"text-align: right;\">\n",
       "      <th></th>\n",
       "      <th>height</th>\n",
       "      <th>weight</th>\n",
       "    </tr>\n",
       "  </thead>\n",
       "  <tbody>\n",
       "    <tr>\n",
       "      <th>height</th>\n",
       "      <td>104.652181</td>\n",
       "      <td>76.226474</td>\n",
       "    </tr>\n",
       "    <tr>\n",
       "      <th>weight</th>\n",
       "      <td>76.226474</td>\n",
       "      <td>68.293595</td>\n",
       "    </tr>\n",
       "  </tbody>\n",
       "</table>\n",
       "</div>"
      ],
      "text/plain": [
       "            height     weight\n",
       "height  104.652181  76.226474\n",
       "weight   76.226474  68.293595"
      ]
     },
     "execution_count": 43,
     "metadata": {},
     "output_type": "execute_result"
    }
   ],
   "source": [
    "covMatrix"
   ]
  },
  {
   "cell_type": "code",
   "execution_count": 44,
   "metadata": {},
   "outputs": [
    {
     "data": {
      "text/plain": [
       "0.9016577106690004"
      ]
     },
     "execution_count": 44,
     "metadata": {},
     "output_type": "execute_result"
    }
   ],
   "source": [
    "r = covMatrix.at['height','weight'] / (df['height'].std() * df['weight'].std())\n",
    "r"
   ]
  },
  {
   "cell_type": "markdown",
   "metadata": {},
   "source": [
    "### Linear Regression\n",
    "\n",
    "Linear regression is a **linear** approach to modelling the relationship between a scalar **dependent variable** (also called feature or target) and one or more explanatory **independent variables**.\n",
    "\n",
    "The case of one explanatory variable is called **simple linear regression**; for more than one, the process is called **multiple linear regression**. This term is distinct from **multivariate linear regression**, where multiple correlated dependent variables are predicted, rather than a single scalar variable.\n",
    "\n",
    "The linear regression **model** is described with the coefficients $\\theta_0$ (intercept) and $\\theta_1$ (slope):\n",
    "\n",
    "$$\n",
    "\\hat{y} = \\theta_0 + \\theta_1 x\n",
    "$$\n",
    "\n",
    "There are two ways to determine $\\theta$, an **analytical** solution and a **numerical** approximation method called gradient descent. The numerical solution is recommended for large datasets.\n",
    "\n",
    "#### Analytical Solution\n",
    "\n",
    "Let $X$ signify the **independent data**:\n",
    "\n",
    "$$\n",
    "X = \\begin{bmatrix}1 & x_1 \\\\  \\vdots & \\vdots \\\\ 1 & x_n \\end{bmatrix}\n",
    "$$\n",
    "\n",
    "Let $y$ signify **observed values** (the target, aka the thing we’re trying to predict):\n",
    "\n",
    "$$\n",
    "y = \\begin{pmatrix}y_1 \\\\ \\vdots \\\\ y_n \\end{pmatrix}\n",
    "$$\n",
    "\n",
    "then we calculate the coefficiennts $\\theta$ with:\n",
    "\n",
    "$$\n",
    "\\hat{\\theta} = \\begin{pmatrix}\\theta_0, \\theta_1 \\end{pmatrix} = (X^\\top X)^{-1} X^\\top y \n",
    "$$"
   ]
  },
  {
   "cell_type": "code",
   "execution_count": 45,
   "metadata": {},
   "outputs": [
    {
     "name": "stdout",
     "output_type": "stream",
     "text": [
      "intercept: -38.33666841115337 | slope: 0.728379219131341\n"
     ]
    }
   ],
   "source": [
    "def ols(X, y):\n",
    "    '''returns parameters based on Ordinary Least Squares'''\n",
    "    return np.dot(np.linalg.inv(np.dot(X.T, X)), np.dot(X.T, y))\n",
    "\n",
    "X = np.c_[np.ones(df['height'].shape[0]), df['height']]\n",
    "y = df['weight']\n",
    "\n",
    "theta = ols(X,y)\n",
    "print(f'intercept: {theta[0]} | slope: {theta[1]}')"
   ]
  },
  {
   "cell_type": "code",
   "execution_count": 46,
   "metadata": {},
   "outputs": [
    {
     "data": {
      "image/png": "[encoded data removed]",
      "text/plain": [
       "<Figure size 512x384 with 1 Axes>"
      ]
     },
     "metadata": {},
     "output_type": "display_data"
    }
   ],
   "source": [
    "plt.scatter(df['height'], df['weight'])\n",
    "plt.xlabel('height')\n",
    "plt.ylabel('weight')\n",
    "plt.xlim(140, 200)\n",
    "plt.ylim(60, 110)\n",
    "plt.axline((0, theta[0]), slope=theta[1], c='r');"
   ]
  },
  {
   "cell_type": "markdown",
   "metadata": {},
   "source": [
    "#### Numerical Solution"
   ]
  },
  {
   "cell_type": "code",
   "execution_count": 47,
   "metadata": {},
   "outputs": [
    {
     "name": "stdout",
     "output_type": "stream",
     "text": [
      "intercept: -38.33666841113377\n",
      "slope: 0.7283792191312637\n"
     ]
    }
   ],
   "source": [
    "from sklearn.linear_model import LinearRegression\n",
    "\n",
    "X = np.array(df['height']).reshape(-1, 1)\n",
    "y = df['weight']\n",
    "\n",
    "lr = LinearRegression(fit_intercept=True)\n",
    "lr.fit(X, y)\n",
    "\n",
    "print(f'intercept: {lr.intercept_}')\n",
    "print(f'slope: {lr.coef_[0]}')"
   ]
  },
  {
   "cell_type": "markdown",
   "metadata": {},
   "source": [
    "### R Squared\n",
    "\n",
    "The square of the correlation $\\text{r}^2$, called the coefficient of determination, is the proportion of the variation in the $y$ variable thet is predicted, or explained, by the $x$ variable. \n",
    "\n",
    "For example when predicting grades, then $\\text{r}^2 = 0.69$ says that $69 \\%$ of the variance in the grades can be predicted by the time spend learning.\n",
    "\n",
    "$\\text{r}^2$ tells you how much better a **regression line** predicts the value of a dependent variable than the **mean** of the variable. For example $\\text{r}^2 = 0.69$ says that the prediction error is $69 \\%$ smaller than when you use the mean.\n",
    "\n",
    "$\\text{r}^2$ is easier to interpret as $\\text{r}$. For example it is not obvious that $\\text{r} = 0.7$ is twice as good as $\\text{r}^2 = 0.5$."
   ]
  },
  {
   "cell_type": "code",
   "execution_count": 48,
   "metadata": {},
   "outputs": [
    {
     "name": "stdout",
     "output_type": "stream",
     "text": [
      "r = 0.9016577106690004\n",
      "r^2 = 0.8129866272088627\n"
     ]
    }
   ],
   "source": [
    "print(f'r = {r}')\n",
    "print(f'r^2 = {r**2}')"
   ]
  },
  {
   "cell_type": "markdown",
   "metadata": {},
   "source": [
    "$\\text{r}^2$ can also be calculated and interpretes as\n",
    "\n",
    "$$\n",
    "\\text{r}^2 = 1 - \\frac{\\text{SSE}}{\\text{SSE}}\n",
    "$$\n",
    "\n",
    "with **Sum of Squared Errors**:\n",
    "\n",
    "$$\n",
    "\\text{SSE} = \\sum_i^n{(y_i - \\hat{y_i})^2}\n",
    "$$\n",
    "\n",
    "and **Total Sum of Squares**:\n",
    "\n",
    "$$\n",
    "\\text{SST} = \\sum_i^n{(y_i - \\overline{y})^2}\n",
    "$$"
   ]
  },
  {
   "cell_type": "code",
   "execution_count": 49,
   "metadata": {},
   "outputs": [
    {
     "data": {
      "image/png": "[encoded data removed]",
      "text/plain": [
       "<Figure size 512x384 with 1 Axes>"
      ]
     },
     "metadata": {},
     "output_type": "display_data"
    }
   ],
   "source": [
    "plt.scatter(df['height'], df['weight'], c='k')\n",
    "plt.xlabel('height')\n",
    "plt.ylabel('weight')\n",
    "plt.xlim(140, 200)\n",
    "plt.ylim(60, 110)\n",
    "plt.axline((0, theta[0]), slope=theta[1], c='r');\n",
    "plt.axline((0, df['weight'].mean()), slope=0, c='b');"
   ]
  },
  {
   "cell_type": "markdown",
   "metadata": {},
   "source": [
    "hence\n",
    "\n",
    "$$\n",
    "\\begin{align}\n",
    "\\text{r}^2 &= 1 - \\, \\frac{\\text{var}\\,(\\color{red}{\\text{regression}})}{\\text{var}\\,(\\color{blue}{\\text{mean}})} \\\\ \\\\\n",
    "&= \\frac{\\text{var}\\,(\\color{blue}{\\text{mean}}) - \\text{var}\\,(\\color{red}{\\text{regression}})}{\\text{var}\\,(\\color{blue}{\\text{mean}})}\n",
    "\\end{align}\n",
    "$$"
   ]
  },
  {
   "cell_type": "code",
   "execution_count": 50,
   "metadata": {},
   "outputs": [
    {
     "data": {
      "text/plain": [
       "0.8129866272088621"
      ]
     },
     "execution_count": 50,
     "metadata": {},
     "output_type": "execute_result"
    }
   ],
   "source": [
    "var_mean = df['weight'].var()\n",
    "var_regression = np.sum((df['weight'] - lr.predict(df['height'].values.reshape(-1,1)))**2) / (df['weight'].size - 1)\n",
    "\n",
    "r2 = (var_mean - var_regression) / var_mean\n",
    "r2"
   ]
  },
  {
   "cell_type": "markdown",
   "metadata": {},
   "source": [
    "This can be interpreted as: There is **81,3% less variation** around the regression line than around the mean line.\n",
    "\n",
    "#### Why $\\text{r}^2$ is a Poor Metric\n",
    "\n",
    "$\\text{r}^2$ will go up when additional features are added, even if those features provide the model no new predictive power."
   ]
  },
  {
   "cell_type": "markdown",
   "metadata": {},
   "source": [
    "### Example\n",
    "\n",
    "Data is from [Kaggle](https://www.kaggle.com/russellyates88/suicide-rates-overview-1985-to-2016)"
   ]
  },
  {
   "cell_type": "code",
   "execution_count": 51,
   "metadata": {},
   "outputs": [],
   "source": [
    "import numpy as np\n",
    "import pandas as pd\n",
    "import matplotlib.pyplot as plt\n",
    "import seaborn as sb\n",
    "\n",
    "SuicideRate = pd.read_csv('data/suicide-rates-overview-1985-to-2016.csv.zip', compression='zip')"
   ]
  },
  {
   "cell_type": "code",
   "execution_count": 52,
   "metadata": {},
   "outputs": [
    {
     "data": {
      "text/html": [
       "<div>\n",
       "<style scoped>\n",
       "    .dataframe tbody tr th:only-of-type {\n",
       "        vertical-align: middle;\n",
       "    }\n",
       "\n",
       "    .dataframe tbody tr th {\n",
       "        vertical-align: top;\n",
       "    }\n",
       "\n",
       "    .dataframe thead th {\n",
       "        text-align: right;\n",
       "    }\n",
       "</style>\n",
       "<table border=\"1\" class=\"dataframe\">\n",
       "  <thead>\n",
       "    <tr style=\"text-align: right;\">\n",
       "      <th></th>\n",
       "      <th>country</th>\n",
       "      <th>year</th>\n",
       "      <th>sex</th>\n",
       "      <th>age</th>\n",
       "      <th>suicides_no</th>\n",
       "      <th>population</th>\n",
       "      <th>suicides/100k pop</th>\n",
       "      <th>country-year</th>\n",
       "      <th>HDI for year</th>\n",
       "      <th>gdp_for_year ($)</th>\n",
       "      <th>gdp_per_capita ($)</th>\n",
       "      <th>generation</th>\n",
       "    </tr>\n",
       "  </thead>\n",
       "  <tbody>\n",
       "    <tr>\n",
       "      <th>0</th>\n",
       "      <td>Albania</td>\n",
       "      <td>1987</td>\n",
       "      <td>male</td>\n",
       "      <td>15-24 years</td>\n",
       "      <td>21</td>\n",
       "      <td>312900</td>\n",
       "      <td>6.71</td>\n",
       "      <td>Albania1987</td>\n",
       "      <td>NaN</td>\n",
       "      <td>2,156,624,900</td>\n",
       "      <td>796</td>\n",
       "      <td>Generation X</td>\n",
       "    </tr>\n",
       "    <tr>\n",
       "      <th>1</th>\n",
       "      <td>Albania</td>\n",
       "      <td>1987</td>\n",
       "      <td>male</td>\n",
       "      <td>35-54 years</td>\n",
       "      <td>16</td>\n",
       "      <td>308000</td>\n",
       "      <td>5.19</td>\n",
       "      <td>Albania1987</td>\n",
       "      <td>NaN</td>\n",
       "      <td>2,156,624,900</td>\n",
       "      <td>796</td>\n",
       "      <td>Silent</td>\n",
       "    </tr>\n",
       "    <tr>\n",
       "      <th>2</th>\n",
       "      <td>Albania</td>\n",
       "      <td>1987</td>\n",
       "      <td>female</td>\n",
       "      <td>15-24 years</td>\n",
       "      <td>14</td>\n",
       "      <td>289700</td>\n",
       "      <td>4.83</td>\n",
       "      <td>Albania1987</td>\n",
       "      <td>NaN</td>\n",
       "      <td>2,156,624,900</td>\n",
       "      <td>796</td>\n",
       "      <td>Generation X</td>\n",
       "    </tr>\n",
       "    <tr>\n",
       "      <th>3</th>\n",
       "      <td>Albania</td>\n",
       "      <td>1987</td>\n",
       "      <td>male</td>\n",
       "      <td>75+ years</td>\n",
       "      <td>1</td>\n",
       "      <td>21800</td>\n",
       "      <td>4.59</td>\n",
       "      <td>Albania1987</td>\n",
       "      <td>NaN</td>\n",
       "      <td>2,156,624,900</td>\n",
       "      <td>796</td>\n",
       "      <td>G.I. Generation</td>\n",
       "    </tr>\n",
       "    <tr>\n",
       "      <th>4</th>\n",
       "      <td>Albania</td>\n",
       "      <td>1987</td>\n",
       "      <td>male</td>\n",
       "      <td>25-34 years</td>\n",
       "      <td>9</td>\n",
       "      <td>274300</td>\n",
       "      <td>3.28</td>\n",
       "      <td>Albania1987</td>\n",
       "      <td>NaN</td>\n",
       "      <td>2,156,624,900</td>\n",
       "      <td>796</td>\n",
       "      <td>Boomers</td>\n",
       "    </tr>\n",
       "  </tbody>\n",
       "</table>\n",
       "</div>"
      ],
      "text/plain": [
       "   country  year     sex          age  suicides_no  population   \n",
       "0  Albania  1987    male  15-24 years           21      312900  \\\n",
       "1  Albania  1987    male  35-54 years           16      308000   \n",
       "2  Albania  1987  female  15-24 years           14      289700   \n",
       "3  Albania  1987    male    75+ years            1       21800   \n",
       "4  Albania  1987    male  25-34 years            9      274300   \n",
       "\n",
       "   suicides/100k pop country-year  HDI for year  gdp_for_year ($)    \n",
       "0               6.71  Albania1987           NaN      2,156,624,900  \\\n",
       "1               5.19  Albania1987           NaN      2,156,624,900   \n",
       "2               4.83  Albania1987           NaN      2,156,624,900   \n",
       "3               4.59  Albania1987           NaN      2,156,624,900   \n",
       "4               3.28  Albania1987           NaN      2,156,624,900   \n",
       "\n",
       "   gdp_per_capita ($)       generation  \n",
       "0                 796     Generation X  \n",
       "1                 796           Silent  \n",
       "2                 796     Generation X  \n",
       "3                 796  G.I. Generation  \n",
       "4                 796          Boomers  "
      ]
     },
     "execution_count": 52,
     "metadata": {},
     "output_type": "execute_result"
    }
   ],
   "source": [
    "SuicideRate.head()"
   ]
  },
  {
   "cell_type": "code",
   "execution_count": 53,
   "metadata": {},
   "outputs": [
    {
     "data": {
      "text/html": [
       "<div>\n",
       "<style scoped>\n",
       "    .dataframe tbody tr th:only-of-type {\n",
       "        vertical-align: middle;\n",
       "    }\n",
       "\n",
       "    .dataframe tbody tr th {\n",
       "        vertical-align: top;\n",
       "    }\n",
       "\n",
       "    .dataframe thead th {\n",
       "        text-align: right;\n",
       "    }\n",
       "</style>\n",
       "<table border=\"1\" class=\"dataframe\">\n",
       "  <thead>\n",
       "    <tr style=\"text-align: right;\">\n",
       "      <th></th>\n",
       "      <th>year</th>\n",
       "      <th>suicides_no</th>\n",
       "      <th>population</th>\n",
       "      <th>suicides/100k pop</th>\n",
       "      <th>HDI for year</th>\n",
       "      <th>gdp_per_capita ($)</th>\n",
       "    </tr>\n",
       "  </thead>\n",
       "  <tbody>\n",
       "    <tr>\n",
       "      <th>year</th>\n",
       "      <td>1.000000</td>\n",
       "      <td>-0.004546</td>\n",
       "      <td>0.008850</td>\n",
       "      <td>-0.039037</td>\n",
       "      <td>0.366786</td>\n",
       "      <td>0.339134</td>\n",
       "    </tr>\n",
       "    <tr>\n",
       "      <th>suicides_no</th>\n",
       "      <td>-0.004546</td>\n",
       "      <td>1.000000</td>\n",
       "      <td>0.616162</td>\n",
       "      <td>0.306604</td>\n",
       "      <td>0.151399</td>\n",
       "      <td>0.061330</td>\n",
       "    </tr>\n",
       "    <tr>\n",
       "      <th>population</th>\n",
       "      <td>0.008850</td>\n",
       "      <td>0.616162</td>\n",
       "      <td>1.000000</td>\n",
       "      <td>0.008285</td>\n",
       "      <td>0.102943</td>\n",
       "      <td>0.081510</td>\n",
       "    </tr>\n",
       "    <tr>\n",
       "      <th>suicides/100k pop</th>\n",
       "      <td>-0.039037</td>\n",
       "      <td>0.306604</td>\n",
       "      <td>0.008285</td>\n",
       "      <td>1.000000</td>\n",
       "      <td>0.074279</td>\n",
       "      <td>0.001785</td>\n",
       "    </tr>\n",
       "    <tr>\n",
       "      <th>HDI for year</th>\n",
       "      <td>0.366786</td>\n",
       "      <td>0.151399</td>\n",
       "      <td>0.102943</td>\n",
       "      <td>0.074279</td>\n",
       "      <td>1.000000</td>\n",
       "      <td>0.771228</td>\n",
       "    </tr>\n",
       "    <tr>\n",
       "      <th>gdp_per_capita ($)</th>\n",
       "      <td>0.339134</td>\n",
       "      <td>0.061330</td>\n",
       "      <td>0.081510</td>\n",
       "      <td>0.001785</td>\n",
       "      <td>0.771228</td>\n",
       "      <td>1.000000</td>\n",
       "    </tr>\n",
       "  </tbody>\n",
       "</table>\n",
       "</div>"
      ],
      "text/plain": [
       "                        year  suicides_no  population  suicides/100k pop   \n",
       "year                1.000000    -0.004546    0.008850          -0.039037  \\\n",
       "suicides_no        -0.004546     1.000000    0.616162           0.306604   \n",
       "population          0.008850     0.616162    1.000000           0.008285   \n",
       "suicides/100k pop  -0.039037     0.306604    0.008285           1.000000   \n",
       "HDI for year        0.366786     0.151399    0.102943           0.074279   \n",
       "gdp_per_capita ($)  0.339134     0.061330    0.081510           0.001785   \n",
       "\n",
       "                    HDI for year  gdp_per_capita ($)  \n",
       "year                    0.366786            0.339134  \n",
       "suicides_no             0.151399            0.061330  \n",
       "population              0.102943            0.081510  \n",
       "suicides/100k pop       0.074279            0.001785  \n",
       "HDI for year            1.000000            0.771228  \n",
       "gdp_per_capita ($)      0.771228            1.000000  "
      ]
     },
     "execution_count": 53,
     "metadata": {},
     "output_type": "execute_result"
    }
   ],
   "source": [
    "pearsoncorr = SuicideRate.corr(method='pearson', numeric_only=True)\n",
    "pearsoncorr"
   ]
  },
  {
   "cell_type": "code",
   "execution_count": 54,
   "metadata": {},
   "outputs": [
    {
     "data": {
      "image/png": "[encoded data removed]",
      "text/plain": [
       "<Figure size 512x384 with 2 Axes>"
      ]
     },
     "metadata": {},
     "output_type": "display_data"
    }
   ],
   "source": [
    "sb.heatmap(pearsoncorr, xticklabels=pearsoncorr.columns, yticklabels=pearsoncorr.columns, cmap='RdBu_r', annot=True, linewidth=0.5);"
   ]
  },
  {
   "cell_type": "markdown",
   "metadata": {},
   "source": [
    "# TODO\n",
    "\n",
    "* https://dfrieds.com/math/bessels-correction.html#Bessel's-Correction\n",
    "* https://www.youtube.com/watch?v=f-6RRsRiPDc\n",
    "* https://www.youtube.com/watch?v=IaSfvJu5f9I"
   ]
  },
  {
   "cell_type": "code",
   "execution_count": null,
   "metadata": {},
   "outputs": [],
   "source": []
  }
 ],
 "metadata": {
  "kernelspec": {
   "display_name": "Python 3 (ipykernel)",
   "language": "python",
   "name": "python3"
  },
  "language_info": {
   "codemirror_mode": {
    "name": "ipython",
    "version": 3
   },
   "file_extension": ".py",
   "mimetype": "text/x-python",
   "name": "python",
   "nbconvert_exporter": "python",
   "pygments_lexer": "ipython3",
   "version": "3.11.3"
  },
  "toc-autonumbering": false,
  "toc-showcode": false,
  "toc-showmarkdowntxt": false,
  "toc-showtags": false
 },
 "nbformat": 4,
 "nbformat_minor": 4
}
