{
 "cells": [
  {
   "cell_type": "markdown",
   "metadata": {},
   "source": [
    "# Logarithm"
   ]
  },
  {
   "cell_type": "markdown",
   "metadata": {},
   "source": [
    "Definition of the logarithm: $$x = \\log_{a} y \\Leftrightarrow y=a^x$$\n",
    "Zero of all logarithms: $$\\log 1 = 0$$"
   ]
  },
  {
   "cell_type": "markdown",
   "metadata": {},
   "source": [
    "**Addition** of logarithms: $$\\log x + \\log y = \\log xy$$\n",
    "**Subtraction** of logarithms: $$\\log x - \\log y = \\log \\frac{x}{y}$$\n",
    "**Negation** of logarithms: $$-\\log x = \\log \\frac{1}{x}$$\n",
    "Multiplication of a logarithm with a natural number: $$n \\log x = \\log x^n$$\n",
    "**Division** of logarithms: $$\\frac{\\log x}{\\log a} = \\log_{a} x$$"
   ]
  },
  {
   "cell_type": "markdown",
   "metadata": {},
   "source": [
    "Definition of the **Euler number**: $$e = \\lim\\limits_{n \\rightarrow \\infty}{\\left(1 + \\frac{1}{n}\\right)^n}$$"
   ]
  }
 ],
 "metadata": {
  "kernelspec": {
   "display_name": "Python 3",
   "language": "python",
   "name": "python3"
  },
  "language_info": {
   "codemirror_mode": {
    "name": "ipython",
    "version": 3
   },
   "file_extension": ".py",
   "mimetype": "text/x-python",
   "name": "python",
   "nbconvert_exporter": "python",
   "pygments_lexer": "ipython3",
   "version": "3.7.4"
  }
 },
 "nbformat": 4,
 "nbformat_minor": 2
}
