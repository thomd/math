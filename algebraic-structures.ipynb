{
 "cells": [
  {
   "cell_type": "markdown",
   "metadata": {},
   "source": [
    "## Gruppe\n",
    "\n",
    "Eine **Gruppe** ist ein Paar $(G,*)$ bestehend aus einer **Menge** $G$ und einer **inneren zweistelligen Verknüpfung** $*$ auf $G$. Dabei erfüllt die Abbildung\n",
    "\n",
    "$$*: \\begin{cases}G \\times G \\to G\\\\(a,b) \\mapsto a * b\\end{cases}$$\n",
    "\n",
    "\n",
    "die geforderten **Gruppenaxiome**\n",
    "\n",
    "1. **Assoziativgesetz**: Für alle $a,b,c \\in G$ gilt: $a*(b*c)=(a*b)*c$\n",
    "\n",
    "\n",
    "2. **Neutrales Element**: Es gibt ein Element $e\\in G$, so dass für alle $a\\in G$ gilt: $a*e=a$\n",
    "\n",
    "\n",
    "3. **Inverses Element**: Zu jedem $a\\in G$ gibt es ein $a^{-1} \\in G$ mit $a*a^{-1}=e$\n",
    "\n",
    "Eine Gruppe $(G, *)$ heißt **abelsch**, wenn zusätzlich gilt\n",
    "\n",
    "4. **Kommutativgesetz**: Für alle $a, b \\in G$ gilt: $a * b = b * a$"
   ]
  },
  {
   "cell_type": "markdown",
   "metadata": {},
   "source": [
    "## Körper\n",
    "\n",
    "Ein **Körper** ist eine **Menge** $K$, versehen mit **zwei inneren zweistelligen Verknüpfungen** „$+$“ (genannt **Addition**) und „$\\cdot$“ (genannt **Multiplikation**), für die gilt:\n",
    "\n",
    "1. $(K, +)$ ist eine **abelsche Gruppe** (neutrales Element $0$)\n",
    "\n",
    "\n",
    "2. $(K \\setminus \\{0\\}, \\cdot )$ ist eine **abelsche Gruppe** (neutrales Element $1$)\n",
    "\n",
    "\n",
    "3. **Distributivgesetze**:\n",
    "    \n",
    "    $a \\cdot (b + c) = a \\cdot b + a \\cdot c$ für alle $a, b, c \\in K$\n",
    "    \n",
    "    $(a + b) \\cdot c = a \\cdot c + b \\cdot c$ für alle $a, b, c \\in K$\n"
   ]
  }
 ],
 "metadata": {
  "kernelspec": {
   "display_name": "Python 3",
   "language": "python",
   "name": "python3"
  },
  "language_info": {
   "codemirror_mode": {
    "name": "ipython",
    "version": 3
   },
   "file_extension": ".py",
   "mimetype": "text/x-python",
   "name": "python",
   "nbconvert_exporter": "python",
   "pygments_lexer": "ipython3",
   "version": "3.7.5"
  }
 },
 "nbformat": 4,
 "nbformat_minor": 2
}
